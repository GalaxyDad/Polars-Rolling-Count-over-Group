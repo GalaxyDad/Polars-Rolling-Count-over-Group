{
 "cells": [
  {
   "cell_type": "code",
   "execution_count": 1,
   "metadata": {},
   "outputs": [
    {
     "data": {
      "text/html": [
       "<div><style>\n",
       ".dataframe > thead > tr,\n",
       ".dataframe > tbody > tr {\n",
       "  text-align: right;\n",
       "  white-space: pre-wrap;\n",
       "}\n",
       "</style>\n",
       "<small>shape: (9, 5)</small><table border=\"1\" class=\"dataframe\"><thead><tr><th>statistic</th><th>group</th><th>values</th><th>date</th><th>ctr</th></tr><tr><td>str</td><td>str</td><td>f64</td><td>str</td><td>f64</td></tr></thead><tbody><tr><td>&quot;count&quot;</td><td>&quot;3651694&quot;</td><td>3.651694e6</td><td>&quot;3651694&quot;</td><td>3.651694e6</td></tr><tr><td>&quot;null_count&quot;</td><td>&quot;0&quot;</td><td>0.0</td><td>&quot;0&quot;</td><td>0.0</td></tr><tr><td>&quot;mean&quot;</td><td>null</td><td>2.4997e6</td><td>&quot;5000-12-31&quot;</td><td>1.0</td></tr><tr><td>&quot;std&quot;</td><td>null</td><td>1.4438e6</td><td>null</td><td>0.0</td></tr><tr><td>&quot;min&quot;</td><td>&quot;A&quot;</td><td>8.0</td><td>&quot;0002-01-01&quot;</td><td>1.0</td></tr><tr><td>&quot;25%&quot;</td><td>null</td><td>1.24865e6</td><td>&quot;2501-07-02&quot;</td><td>1.0</td></tr><tr><td>&quot;50%&quot;</td><td>null</td><td>2.49838e6</td><td>&quot;5001-01-01&quot;</td><td>1.0</td></tr><tr><td>&quot;75%&quot;</td><td>null</td><td>3.750577e6</td><td>&quot;7500-07-02&quot;</td><td>1.0</td></tr><tr><td>&quot;max&quot;</td><td>&quot;Z&quot;</td><td>5e6</td><td>&quot;9999-12-31&quot;</td><td>1.0</td></tr></tbody></table></div>"
      ],
      "text/plain": [
       "shape: (9, 5)\n",
       "┌────────────┬─────────┬────────────┬────────────┬────────────┐\n",
       "│ statistic  ┆ group   ┆ values     ┆ date       ┆ ctr        │\n",
       "│ ---        ┆ ---     ┆ ---        ┆ ---        ┆ ---        │\n",
       "│ str        ┆ str     ┆ f64        ┆ str        ┆ f64        │\n",
       "╞════════════╪═════════╪════════════╪════════════╪════════════╡\n",
       "│ count      ┆ 3651694 ┆ 3.651694e6 ┆ 3651694    ┆ 3.651694e6 │\n",
       "│ null_count ┆ 0       ┆ 0.0        ┆ 0          ┆ 0.0        │\n",
       "│ mean       ┆ null    ┆ 2.4997e6   ┆ 5000-12-31 ┆ 1.0        │\n",
       "│ std        ┆ null    ┆ 1.4438e6   ┆ null       ┆ 0.0        │\n",
       "│ min        ┆ A       ┆ 8.0        ┆ 0002-01-01 ┆ 1.0        │\n",
       "│ 25%        ┆ null    ┆ 1.24865e6  ┆ 2501-07-02 ┆ 1.0        │\n",
       "│ 50%        ┆ null    ┆ 2.49838e6  ┆ 5001-01-01 ┆ 1.0        │\n",
       "│ 75%        ┆ null    ┆ 3.750577e6 ┆ 7500-07-02 ┆ 1.0        │\n",
       "│ max        ┆ Z       ┆ 5e6        ┆ 9999-12-31 ┆ 1.0        │\n",
       "└────────────┴─────────┴────────────┴────────────┴────────────┘"
      ]
     },
     "execution_count": 1,
     "metadata": {},
     "output_type": "execute_result"
    }
   ],
   "source": [
    "import polars as pl\n",
    "from datetime import date, timedelta\n",
    "import random\n",
    "import string\n",
    "\n",
    "# Function to generate a date range from 2000 to 2024\n",
    "def generate_date_range(start_year, end_year):\n",
    "    start_date = date(start_year, 1, 1)\n",
    "    end_date = date(end_year, 12, 31)\n",
    "    delta = end_date - start_date\n",
    "    return [start_date + timedelta(days=i) for i in range(delta.days + 1)]\n",
    "\n",
    "# Generate a list of dates from 2000 to 2024\n",
    "dates = generate_date_range(2, 9999)\n",
    "\n",
    "# Generate random groups, values, and set ctr to 1 for each entry\n",
    "groups = [random.choice(string.ascii_uppercase) for _ in dates]\n",
    "values = [random.randint(1, 5000000) for _ in dates]\n",
    "ctrs = [1 for _ in dates]\n",
    "\n",
    "# Create the DataFrame\n",
    "df = pl.DataFrame({\n",
    "    \"group\": groups,\n",
    "    \"values\": values,\n",
    "    \"date\": dates,\n",
    "    \"ctr\": ctrs\n",
    "})\n",
    "\n",
    "df.describe()"
   ]
  },
  {
   "cell_type": "code",
   "execution_count": 2,
   "metadata": {},
   "outputs": [
    {
     "name": "stderr",
     "output_type": "stream",
     "text": [
      "sys:1: UserWarning: Series is not known to be sorted by `by` column in rolling_sum operation.\n",
      "\n",
      "To silence this warning, you may want to try:\n",
      "- sorting your data by your `by` column beforehand;\n",
      "- setting `.set_sorted()` if you already know your data is sorted;\n",
      "- passing `warn_if_unsorted=False` if this warning is a false-positive\n",
      "  (this is known to happen when combining rolling aggregations with `over`);\n",
      "\n",
      "before passing calling the rolling aggregation function.\n",
      "\n"
     ]
    },
    {
     "data": {
      "text/html": [
       "<div><style>\n",
       ".dataframe > thead > tr,\n",
       ".dataframe > tbody > tr {\n",
       "  text-align: right;\n",
       "  white-space: pre-wrap;\n",
       "}\n",
       "</style>\n",
       "<small>shape: (100, 3)</small><table border=\"1\" class=\"dataframe\"><thead><tr><th>group</th><th>date</th><th>ctr</th></tr><tr><td>str</td><td>date</td><td>i64</td></tr></thead><tbody><tr><td>&quot;E&quot;</td><td>9999-09-23</td><td>12</td></tr><tr><td>&quot;G&quot;</td><td>9999-09-24</td><td>15</td></tr><tr><td>&quot;Z&quot;</td><td>9999-09-25</td><td>12</td></tr><tr><td>&quot;U&quot;</td><td>9999-09-26</td><td>12</td></tr><tr><td>&quot;R&quot;</td><td>9999-09-27</td><td>12</td></tr><tr><td>&quot;Y&quot;</td><td>9999-09-28</td><td>18</td></tr><tr><td>&quot;E&quot;</td><td>9999-09-29</td><td>12</td></tr><tr><td>&quot;N&quot;</td><td>9999-09-30</td><td>21</td></tr><tr><td>&quot;C&quot;</td><td>9999-10-01</td><td>15</td></tr><tr><td>&quot;B&quot;</td><td>9999-10-02</td><td>13</td></tr><tr><td>&quot;Z&quot;</td><td>9999-10-03</td><td>12</td></tr><tr><td>&quot;M&quot;</td><td>9999-10-04</td><td>15</td></tr><tr><td>&hellip;</td><td>&hellip;</td><td>&hellip;</td></tr><tr><td>&quot;B&quot;</td><td>9999-12-20</td><td>10</td></tr><tr><td>&quot;L&quot;</td><td>9999-12-21</td><td>22</td></tr><tr><td>&quot;P&quot;</td><td>9999-12-22</td><td>19</td></tr><tr><td>&quot;S&quot;</td><td>9999-12-23</td><td>18</td></tr><tr><td>&quot;X&quot;</td><td>9999-12-24</td><td>13</td></tr><tr><td>&quot;X&quot;</td><td>9999-12-25</td><td>14</td></tr><tr><td>&quot;U&quot;</td><td>9999-12-26</td><td>13</td></tr><tr><td>&quot;O&quot;</td><td>9999-12-27</td><td>13</td></tr><tr><td>&quot;Q&quot;</td><td>9999-12-28</td><td>12</td></tr><tr><td>&quot;R&quot;</td><td>9999-12-29</td><td>14</td></tr><tr><td>&quot;P&quot;</td><td>9999-12-30</td><td>20</td></tr><tr><td>&quot;S&quot;</td><td>9999-12-31</td><td>19</td></tr></tbody></table></div>"
      ],
      "text/plain": [
       "shape: (100, 3)\n",
       "┌───────┬────────────┬─────┐\n",
       "│ group ┆ date       ┆ ctr │\n",
       "│ ---   ┆ ---        ┆ --- │\n",
       "│ str   ┆ date       ┆ i64 │\n",
       "╞═══════╪════════════╪═════╡\n",
       "│ E     ┆ 9999-09-23 ┆ 12  │\n",
       "│ G     ┆ 9999-09-24 ┆ 15  │\n",
       "│ Z     ┆ 9999-09-25 ┆ 12  │\n",
       "│ U     ┆ 9999-09-26 ┆ 12  │\n",
       "│ R     ┆ 9999-09-27 ┆ 12  │\n",
       "│ …     ┆ …          ┆ …   │\n",
       "│ O     ┆ 9999-12-27 ┆ 13  │\n",
       "│ Q     ┆ 9999-12-28 ┆ 12  │\n",
       "│ R     ┆ 9999-12-29 ┆ 14  │\n",
       "│ P     ┆ 9999-12-30 ┆ 20  │\n",
       "│ S     ┆ 9999-12-31 ┆ 19  │\n",
       "└───────┴────────────┴─────┘"
      ]
     },
     "execution_count": 2,
     "metadata": {},
     "output_type": "execute_result"
    }
   ],
   "source": [
    "`# Define a custom function for rolling sum operation on a DataFrame grouped by 'group'\n",
    "def rolling_sum(group_df):\n",
    "    # Selects specific columns and applies a rolling sum on the 'ctr' column with a window of 3\n",
    "    return group_df.select([\n",
    "        pl.col(\"group\"),                     # Include the 'group' column\n",
    "        pl.col(\"date\"),                      # Include the 'date' column\n",
    "        pl.col(\"ctr\").rolling_sum(window_size=\"1y\",by=\"date\", min_periods=1)  # Apply rolling sum on 'ctr'\n",
    "    ])\n",
    "\n",
    "# Group the DataFrame by 'group', apply the custom rolling_sum function, and sort the result\n",
    "result = df.group_by(\"group\").map_groups(rolling_sum).sort(by=\"date\", descending=False)\n",
    "\n",
    "# Display the first 6 rows of the resulting DataFrame to showcase the rolling sum operation\n",
    "result.tail(100)"
   ]
  }
 ],
 "metadata": {
  "kernelspec": {
   "display_name": "JupyterMain",
   "language": "python",
   "name": "python3"
  },
  "language_info": {
   "codemirror_mode": {
    "name": "ipython",
    "version": 3
   },
   "file_extension": ".py",
   "mimetype": "text/x-python",
   "name": "python",
   "nbconvert_exporter": "python",
   "pygments_lexer": "ipython3",
   "version": "3.12.2"
  }
 },
 "nbformat": 4,
 "nbformat_minor": 2
}
