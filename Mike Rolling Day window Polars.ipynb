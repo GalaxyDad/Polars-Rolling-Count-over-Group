{
 "cells": [
  {
   "cell_type": "code",
   "execution_count": 37,
   "metadata": {},
   "outputs": [
    {
     "data": {
      "text/html": [
       "<div><style>\n",
       ".dataframe > thead > tr,\n",
       ".dataframe > tbody > tr {\n",
       "  text-align: right;\n",
       "  white-space: pre-wrap;\n",
       "}\n",
       "</style>\n",
       "<small>shape: (9, 5)</small><table border=\"1\" class=\"dataframe\"><thead><tr><th>statistic</th><th>group</th><th>values</th><th>date</th><th>ctr</th></tr><tr><td>str</td><td>str</td><td>f64</td><td>str</td><td>f64</td></tr></thead><tbody><tr><td>&quot;count&quot;</td><td>&quot;3651694&quot;</td><td>3.651694e6</td><td>&quot;3651694&quot;</td><td>3.651694e6</td></tr><tr><td>&quot;null_count&quot;</td><td>&quot;0&quot;</td><td>0.0</td><td>&quot;0&quot;</td><td>0.0</td></tr><tr><td>&quot;mean&quot;</td><td>null</td><td>2.4998e6</td><td>&quot;5000-12-31&quot;</td><td>1.0</td></tr><tr><td>&quot;std&quot;</td><td>null</td><td>1.4433e6</td><td>null</td><td>0.0</td></tr><tr><td>&quot;min&quot;</td><td>&quot;A&quot;</td><td>1.0</td><td>&quot;0002-01-01&quot;</td><td>1.0</td></tr><tr><td>&quot;25%&quot;</td><td>null</td><td>1.250474e6</td><td>&quot;2501-07-02&quot;</td><td>1.0</td></tr><tr><td>&quot;50%&quot;</td><td>null</td><td>2.500447e6</td><td>&quot;5001-01-01&quot;</td><td>1.0</td></tr><tr><td>&quot;75%&quot;</td><td>null</td><td>3.749534e6</td><td>&quot;7500-07-02&quot;</td><td>1.0</td></tr><tr><td>&quot;max&quot;</td><td>&quot;Z&quot;</td><td>5e6</td><td>&quot;9999-12-31&quot;</td><td>1.0</td></tr></tbody></table></div>"
      ],
      "text/plain": [
       "shape: (9, 5)\n",
       "┌────────────┬─────────┬────────────┬────────────┬────────────┐\n",
       "│ statistic  ┆ group   ┆ values     ┆ date       ┆ ctr        │\n",
       "│ ---        ┆ ---     ┆ ---        ┆ ---        ┆ ---        │\n",
       "│ str        ┆ str     ┆ f64        ┆ str        ┆ f64        │\n",
       "╞════════════╪═════════╪════════════╪════════════╪════════════╡\n",
       "│ count      ┆ 3651694 ┆ 3.651694e6 ┆ 3651694    ┆ 3.651694e6 │\n",
       "│ null_count ┆ 0       ┆ 0.0        ┆ 0          ┆ 0.0        │\n",
       "│ mean       ┆ null    ┆ 2.4998e6   ┆ 5000-12-31 ┆ 1.0        │\n",
       "│ std        ┆ null    ┆ 1.4433e6   ┆ null       ┆ 0.0        │\n",
       "│ min        ┆ A       ┆ 1.0        ┆ 0002-01-01 ┆ 1.0        │\n",
       "│ 25%        ┆ null    ┆ 1.250474e6 ┆ 2501-07-02 ┆ 1.0        │\n",
       "│ 50%        ┆ null    ┆ 2.500447e6 ┆ 5001-01-01 ┆ 1.0        │\n",
       "│ 75%        ┆ null    ┆ 3.749534e6 ┆ 7500-07-02 ┆ 1.0        │\n",
       "│ max        ┆ Z       ┆ 5e6        ┆ 9999-12-31 ┆ 1.0        │\n",
       "└────────────┴─────────┴────────────┴────────────┴────────────┘"
      ]
     },
     "execution_count": 37,
     "metadata": {},
     "output_type": "execute_result"
    }
   ],
   "source": [
    "import polars as pl\n",
    "from datetime import date, timedelta\n",
    "import random\n",
    "import string\n",
    "\n",
    "# Function to generate a date range from 2000 to 2024\n",
    "def generate_date_range(start_year, end_year):\n",
    "    start_date = date(start_year, 1, 1)\n",
    "    end_date = date(end_year, 12, 31)\n",
    "    delta = end_date - start_date\n",
    "    return [start_date + timedelta(days=i) for i in range(delta.days + 1)]\n",
    "\n",
    "# Generate a list of dates from 2000 to 2024\n",
    "dates = generate_date_range(2, 9999)\n",
    "\n",
    "# Generate random groups, values, and set ctr to 1 for each entry\n",
    "groups = [random.choice(string.ascii_uppercase) for _ in dates]\n",
    "values = [random.randint(1, 5000000) for _ in dates]\n",
    "ctrs = [1 for _ in dates]\n",
    "\n",
    "# Create the DataFrame\n",
    "df = pl.DataFrame({\n",
    "    \"group\": groups,\n",
    "    \"values\": values,\n",
    "    \"date\": dates,\n",
    "    \"ctr\": ctrs\n",
    "})\n",
    "\n",
    "df.describe()"
   ]
  },
  {
   "cell_type": "code",
   "execution_count": 38,
   "metadata": {},
   "outputs": [
    {
     "data": {
      "text/html": [
       "<div><style>\n",
       ".dataframe > thead > tr,\n",
       ".dataframe > tbody > tr {\n",
       "  text-align: right;\n",
       "  white-space: pre-wrap;\n",
       "}\n",
       "</style>\n",
       "<small>shape: (30, 3)</small><table border=\"1\" class=\"dataframe\"><thead><tr><th>group</th><th>date</th><th>ctr</th></tr><tr><td>str</td><td>date</td><td>i64</td></tr></thead><tbody><tr><td>&quot;A&quot;</td><td>0002-02-17</td><td>1</td></tr><tr><td>&quot;A&quot;</td><td>0002-03-17</td><td>2</td></tr><tr><td>&quot;A&quot;</td><td>0002-04-15</td><td>2</td></tr><tr><td>&quot;A&quot;</td><td>0002-05-11</td><td>2</td></tr><tr><td>&quot;A&quot;</td><td>0002-06-01</td><td>2</td></tr><tr><td>&quot;A&quot;</td><td>0002-06-08</td><td>3</td></tr><tr><td>&quot;A&quot;</td><td>0002-06-21</td><td>3</td></tr><tr><td>&quot;A&quot;</td><td>0002-07-10</td><td>2</td></tr><tr><td>&quot;A&quot;</td><td>0002-07-30</td><td>2</td></tr><tr><td>&quot;A&quot;</td><td>0002-08-03</td><td>3</td></tr><tr><td>&quot;A&quot;</td><td>0002-08-27</td><td>3</td></tr><tr><td>&quot;A&quot;</td><td>0002-09-06</td><td>2</td></tr><tr><td>&hellip;</td><td>&hellip;</td><td>&hellip;</td></tr><tr><td>&quot;A&quot;</td><td>0003-03-28</td><td>3</td></tr><tr><td>&quot;A&quot;</td><td>0003-04-21</td><td>3</td></tr><tr><td>&quot;A&quot;</td><td>0003-04-22</td><td>4</td></tr><tr><td>&quot;A&quot;</td><td>0003-05-09</td><td>3</td></tr><tr><td>&quot;A&quot;</td><td>0003-05-23</td><td>2</td></tr><tr><td>&quot;A&quot;</td><td>0003-07-04</td><td>1</td></tr><tr><td>&quot;A&quot;</td><td>0003-07-14</td><td>2</td></tr><tr><td>&quot;A&quot;</td><td>0003-10-02</td><td>1</td></tr><tr><td>&quot;A&quot;</td><td>0003-10-18</td><td>2</td></tr><tr><td>&quot;A&quot;</td><td>0003-10-23</td><td>3</td></tr><tr><td>&quot;A&quot;</td><td>0003-10-26</td><td>4</td></tr><tr><td>&quot;A&quot;</td><td>0003-11-13</td><td>4</td></tr></tbody></table></div>"
      ],
      "text/plain": [
       "shape: (30, 3)\n",
       "┌───────┬────────────┬─────┐\n",
       "│ group ┆ date       ┆ ctr │\n",
       "│ ---   ┆ ---        ┆ --- │\n",
       "│ str   ┆ date       ┆ i64 │\n",
       "╞═══════╪════════════╪═════╡\n",
       "│ A     ┆ 0002-02-17 ┆ 1   │\n",
       "│ A     ┆ 0002-03-17 ┆ 2   │\n",
       "│ A     ┆ 0002-04-15 ┆ 2   │\n",
       "│ A     ┆ 0002-05-11 ┆ 2   │\n",
       "│ A     ┆ 0002-06-01 ┆ 2   │\n",
       "│ …     ┆ …          ┆ …   │\n",
       "│ A     ┆ 0003-10-02 ┆ 1   │\n",
       "│ A     ┆ 0003-10-18 ┆ 2   │\n",
       "│ A     ┆ 0003-10-23 ┆ 3   │\n",
       "│ A     ┆ 0003-10-26 ┆ 4   │\n",
       "│ A     ┆ 0003-11-13 ┆ 4   │\n",
       "└───────┴────────────┴─────┘"
      ]
     },
     "execution_count": 38,
     "metadata": {},
     "output_type": "execute_result"
    }
   ],
   "source": [
    "# Define a custom function for rolling sum operation on a DataFrame grouped by 'group'\n",
    "# df = pl.read_parquet(\"huge file for testing polars.parquet\")\n",
    "def rolling_sum(group_df):\n",
    "    # Selects specific columns and applies a rolling sum on the 'ctr' column with a window of 3\n",
    "    return group_df.select([\n",
    "        pl.col(\"group\"),                     # Include the 'group' column\n",
    "        pl.col(\"date\"),                      # Include the 'date' column\n",
    "        pl.col(\"ctr\").rolling_sum(window_size=\"30d\",by=\"date\", min_periods=1)  # Apply rolling sum on 'ctr'\n",
    "    ])\n",
    "\n",
    "# Group the DataFrame by 'group', apply the custom rolling_sum function, and sort the result\n",
    "result = df.group_by(\"group\").map_groups(rolling_sum).sort(by=[\"group\",\"date\"], descending=False)\n",
    "\n",
    "# Display the first 6 rows of the resulting DataFrame to showcase the rolling sum operation\n",
    "result.head(30)"
   ]
  },
  {
   "cell_type": "code",
   "execution_count": 39,
   "metadata": {},
   "outputs": [
    {
     "data": {
      "text/html": [
       "<div><style>\n",
       ".dataframe > thead > tr,\n",
       ".dataframe > tbody > tr {\n",
       "  text-align: right;\n",
       "  white-space: pre-wrap;\n",
       "}\n",
       "</style>\n",
       "<small>shape: (30, 5)</small><table border=\"1\" class=\"dataframe\"><thead><tr><th>group</th><th>values</th><th>date</th><th>ctr</th><th>group_ctr_rolling</th></tr><tr><td>str</td><td>i64</td><td>date</td><td>i64</td><td>i64</td></tr></thead><tbody><tr><td>&quot;A&quot;</td><td>3851930</td><td>0002-02-17</td><td>1</td><td>1</td></tr><tr><td>&quot;A&quot;</td><td>744878</td><td>0002-03-17</td><td>1</td><td>2</td></tr><tr><td>&quot;A&quot;</td><td>3538740</td><td>0002-04-15</td><td>1</td><td>2</td></tr><tr><td>&quot;A&quot;</td><td>587206</td><td>0002-05-11</td><td>1</td><td>2</td></tr><tr><td>&quot;A&quot;</td><td>2493932</td><td>0002-06-01</td><td>1</td><td>2</td></tr><tr><td>&quot;A&quot;</td><td>3520584</td><td>0002-06-08</td><td>1</td><td>3</td></tr><tr><td>&quot;A&quot;</td><td>3210145</td><td>0002-06-21</td><td>1</td><td>3</td></tr><tr><td>&quot;A&quot;</td><td>981206</td><td>0002-07-10</td><td>1</td><td>2</td></tr><tr><td>&quot;A&quot;</td><td>2167480</td><td>0002-07-30</td><td>1</td><td>2</td></tr><tr><td>&quot;A&quot;</td><td>877124</td><td>0002-08-03</td><td>1</td><td>3</td></tr><tr><td>&quot;A&quot;</td><td>725991</td><td>0002-08-27</td><td>1</td><td>3</td></tr><tr><td>&quot;A&quot;</td><td>507177</td><td>0002-09-06</td><td>1</td><td>2</td></tr><tr><td>&hellip;</td><td>&hellip;</td><td>&hellip;</td><td>&hellip;</td><td>&hellip;</td></tr><tr><td>&quot;A&quot;</td><td>4466218</td><td>0003-03-28</td><td>1</td><td>3</td></tr><tr><td>&quot;A&quot;</td><td>4500140</td><td>0003-04-21</td><td>1</td><td>3</td></tr><tr><td>&quot;A&quot;</td><td>3942169</td><td>0003-04-22</td><td>1</td><td>4</td></tr><tr><td>&quot;A&quot;</td><td>4861910</td><td>0003-05-09</td><td>1</td><td>3</td></tr><tr><td>&quot;A&quot;</td><td>4551725</td><td>0003-05-23</td><td>1</td><td>2</td></tr><tr><td>&quot;A&quot;</td><td>2255023</td><td>0003-07-04</td><td>1</td><td>1</td></tr><tr><td>&quot;A&quot;</td><td>1416881</td><td>0003-07-14</td><td>1</td><td>2</td></tr><tr><td>&quot;A&quot;</td><td>4178825</td><td>0003-10-02</td><td>1</td><td>1</td></tr><tr><td>&quot;A&quot;</td><td>969816</td><td>0003-10-18</td><td>1</td><td>2</td></tr><tr><td>&quot;A&quot;</td><td>2257711</td><td>0003-10-23</td><td>1</td><td>3</td></tr><tr><td>&quot;A&quot;</td><td>2092522</td><td>0003-10-26</td><td>1</td><td>4</td></tr><tr><td>&quot;A&quot;</td><td>3450911</td><td>0003-11-13</td><td>1</td><td>4</td></tr></tbody></table></div>"
      ],
      "text/plain": [
       "shape: (30, 5)\n",
       "┌───────┬─────────┬────────────┬─────┬───────────────────┐\n",
       "│ group ┆ values  ┆ date       ┆ ctr ┆ group_ctr_rolling │\n",
       "│ ---   ┆ ---     ┆ ---        ┆ --- ┆ ---               │\n",
       "│ str   ┆ i64     ┆ date       ┆ i64 ┆ i64               │\n",
       "╞═══════╪═════════╪════════════╪═════╪═══════════════════╡\n",
       "│ A     ┆ 3851930 ┆ 0002-02-17 ┆ 1   ┆ 1                 │\n",
       "│ A     ┆ 744878  ┆ 0002-03-17 ┆ 1   ┆ 2                 │\n",
       "│ A     ┆ 3538740 ┆ 0002-04-15 ┆ 1   ┆ 2                 │\n",
       "│ A     ┆ 587206  ┆ 0002-05-11 ┆ 1   ┆ 2                 │\n",
       "│ A     ┆ 2493932 ┆ 0002-06-01 ┆ 1   ┆ 2                 │\n",
       "│ …     ┆ …       ┆ …          ┆ …   ┆ …                 │\n",
       "│ A     ┆ 4178825 ┆ 0003-10-02 ┆ 1   ┆ 1                 │\n",
       "│ A     ┆ 969816  ┆ 0003-10-18 ┆ 1   ┆ 2                 │\n",
       "│ A     ┆ 2257711 ┆ 0003-10-23 ┆ 1   ┆ 3                 │\n",
       "│ A     ┆ 2092522 ┆ 0003-10-26 ┆ 1   ┆ 4                 │\n",
       "│ A     ┆ 3450911 ┆ 0003-11-13 ┆ 1   ┆ 4                 │\n",
       "└───────┴─────────┴────────────┴─────┴───────────────────┘"
      ]
     },
     "execution_count": 39,
     "metadata": {},
     "output_type": "execute_result"
    }
   ],
   "source": [
    "##trying a lazy frame method of doing this\n",
    "\n",
    "# lazy_df = pl.scan_parquet(\"huge file for testing polars.parquet\")\n",
    "lazy_df = df.lazy()\n",
    "#create a query\n",
    "q = (\n",
    "    lazy_df\n",
    "    .with_columns(\n",
    "        pl.col(\"ctr\").rolling_sum(window_size=\"30d\", min_periods=1, by=\"date\")\n",
    "        .over(\"group\")\n",
    "        .alias(\"group_ctr_rolling\")\n",
    "    )\n",
    "    .sort(by=[\"group\",\"date\"], descending=False)\n",
    "    # .with_columns(\n",
    "    #     pl.col(\"ctr\")\n",
    "    #     .rolling_sum()\n",
    "    # )\n",
    ")\n",
    "\n",
    "lazy_df = q.collect(streaming=True)\n",
    "\n",
    "lazy_df.head(30)"
   ]
  }
 ],
 "metadata": {
  "kernelspec": {
   "display_name": "JupyterMain",
   "language": "python",
   "name": "python3"
  },
  "language_info": {
   "codemirror_mode": {
    "name": "ipython",
    "version": 3
   },
   "file_extension": ".py",
   "mimetype": "text/x-python",
   "name": "python",
   "nbconvert_exporter": "python",
   "pygments_lexer": "ipython3",
   "version": "3.12.2"
  }
 },
 "nbformat": 4,
 "nbformat_minor": 2
}
