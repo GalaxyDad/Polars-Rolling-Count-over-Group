{
 "cells": [
  {
   "cell_type": "code",
   "execution_count": 26,
   "metadata": {},
   "outputs": [
    {
     "data": {
      "text/html": [
       "<div><style>\n",
       ".dataframe > thead > tr,\n",
       ".dataframe > tbody > tr {\n",
       "  text-align: right;\n",
       "  white-space: pre-wrap;\n",
       "}\n",
       "</style>\n",
       "<small>shape: (9, 5)</small><table border=\"1\" class=\"dataframe\"><thead><tr><th>statistic</th><th>group</th><th>values</th><th>date</th><th>ctr</th></tr><tr><td>str</td><td>str</td><td>f64</td><td>str</td><td>f64</td></tr></thead><tbody><tr><td>&quot;count&quot;</td><td>&quot;3651694&quot;</td><td>3.651694e6</td><td>&quot;3651694&quot;</td><td>3.651694e6</td></tr><tr><td>&quot;null_count&quot;</td><td>&quot;0&quot;</td><td>0.0</td><td>&quot;0&quot;</td><td>0.0</td></tr><tr><td>&quot;mean&quot;</td><td>null</td><td>2.4999e6</td><td>&quot;5000-12-31&quot;</td><td>1.0</td></tr><tr><td>&quot;std&quot;</td><td>null</td><td>1.4434e6</td><td>null</td><td>0.0</td></tr><tr><td>&quot;min&quot;</td><td>&quot;A&quot;</td><td>1.0</td><td>&quot;0002-01-01&quot;</td><td>1.0</td></tr><tr><td>&quot;25%&quot;</td><td>null</td><td>1.249815e6</td><td>&quot;2501-07-02&quot;</td><td>1.0</td></tr><tr><td>&quot;50%&quot;</td><td>null</td><td>2.500417e6</td><td>&quot;5001-01-01&quot;</td><td>1.0</td></tr><tr><td>&quot;75%&quot;</td><td>null</td><td>3.749325e6</td><td>&quot;7500-07-02&quot;</td><td>1.0</td></tr><tr><td>&quot;max&quot;</td><td>&quot;Z&quot;</td><td>5e6</td><td>&quot;9999-12-31&quot;</td><td>1.0</td></tr></tbody></table></div>"
      ],
      "text/plain": [
       "shape: (9, 5)\n",
       "┌────────────┬─────────┬────────────┬────────────┬────────────┐\n",
       "│ statistic  ┆ group   ┆ values     ┆ date       ┆ ctr        │\n",
       "│ ---        ┆ ---     ┆ ---        ┆ ---        ┆ ---        │\n",
       "│ str        ┆ str     ┆ f64        ┆ str        ┆ f64        │\n",
       "╞════════════╪═════════╪════════════╪════════════╪════════════╡\n",
       "│ count      ┆ 3651694 ┆ 3.651694e6 ┆ 3651694    ┆ 3.651694e6 │\n",
       "│ null_count ┆ 0       ┆ 0.0        ┆ 0          ┆ 0.0        │\n",
       "│ mean       ┆ null    ┆ 2.4999e6   ┆ 5000-12-31 ┆ 1.0        │\n",
       "│ std        ┆ null    ┆ 1.4434e6   ┆ null       ┆ 0.0        │\n",
       "│ min        ┆ A       ┆ 1.0        ┆ 0002-01-01 ┆ 1.0        │\n",
       "│ 25%        ┆ null    ┆ 1.249815e6 ┆ 2501-07-02 ┆ 1.0        │\n",
       "│ 50%        ┆ null    ┆ 2.500417e6 ┆ 5001-01-01 ┆ 1.0        │\n",
       "│ 75%        ┆ null    ┆ 3.749325e6 ┆ 7500-07-02 ┆ 1.0        │\n",
       "│ max        ┆ Z       ┆ 5e6        ┆ 9999-12-31 ┆ 1.0        │\n",
       "└────────────┴─────────┴────────────┴────────────┴────────────┘"
      ]
     },
     "execution_count": 26,
     "metadata": {},
     "output_type": "execute_result"
    }
   ],
   "source": [
    "import polars as pl\n",
    "from datetime import date, timedelta\n",
    "import random\n",
    "import string\n",
    "\n",
    "# Function to generate a date range from 2000 to 2024\n",
    "def generate_date_range(start_year, end_year):\n",
    "    start_date = date(start_year, 1, 1)\n",
    "    end_date = date(end_year, 12, 31)\n",
    "    delta = end_date - start_date\n",
    "    return [start_date + timedelta(days=i) for i in range(delta.days + 1)]\n",
    "\n",
    "# Generate a list of dates from 2000 to 2024\n",
    "dates = generate_date_range(2, 9999)\n",
    "\n",
    "# Generate random groups, values, and set ctr to 1 for each entry\n",
    "groups = [random.choice(string.ascii_uppercase) for _ in dates]\n",
    "values = [random.randint(1, 5000000) for _ in dates]\n",
    "ctrs = [1 for _ in dates]\n",
    "\n",
    "# Create the DataFrame\n",
    "df = pl.DataFrame({\n",
    "    \"group\": groups,\n",
    "    \"values\": values,\n",
    "    \"date\": dates,\n",
    "    \"ctr\": ctrs\n",
    "})\n",
    "\n",
    "df.describe()"
   ]
  },
  {
   "cell_type": "code",
   "execution_count": 27,
   "metadata": {},
   "outputs": [
    {
     "data": {
      "text/html": [
       "<div><style>\n",
       ".dataframe > thead > tr,\n",
       ".dataframe > tbody > tr {\n",
       "  text-align: right;\n",
       "  white-space: pre-wrap;\n",
       "}\n",
       "</style>\n",
       "<small>shape: (100, 3)</small><table border=\"1\" class=\"dataframe\"><thead><tr><th>group</th><th>date</th><th>ctr</th></tr><tr><td>str</td><td>date</td><td>i64</td></tr></thead><tbody><tr><td>&quot;A&quot;</td><td>0002-01-16</td><td>1</td></tr><tr><td>&quot;A&quot;</td><td>0002-02-14</td><td>2</td></tr><tr><td>&quot;A&quot;</td><td>0002-02-22</td><td>3</td></tr><tr><td>&quot;A&quot;</td><td>0002-02-23</td><td>4</td></tr><tr><td>&quot;A&quot;</td><td>0002-03-19</td><td>5</td></tr><tr><td>&quot;A&quot;</td><td>0002-03-26</td><td>6</td></tr><tr><td>&quot;A&quot;</td><td>0002-05-25</td><td>7</td></tr><tr><td>&quot;A&quot;</td><td>0002-06-03</td><td>8</td></tr><tr><td>&quot;A&quot;</td><td>0002-08-25</td><td>9</td></tr><tr><td>&quot;A&quot;</td><td>0002-09-15</td><td>10</td></tr><tr><td>&quot;A&quot;</td><td>0002-09-26</td><td>11</td></tr><tr><td>&quot;A&quot;</td><td>0002-10-24</td><td>12</td></tr><tr><td>&hellip;</td><td>&hellip;</td><td>&hellip;</td></tr><tr><td>&quot;A&quot;</td><td>0007-08-16</td><td>19</td></tr><tr><td>&quot;A&quot;</td><td>0007-08-29</td><td>17</td></tr><tr><td>&quot;A&quot;</td><td>0007-12-24</td><td>15</td></tr><tr><td>&quot;A&quot;</td><td>0008-01-06</td><td>16</td></tr><tr><td>&quot;A&quot;</td><td>0008-01-29</td><td>13</td></tr><tr><td>&quot;A&quot;</td><td>0008-03-02</td><td>13</td></tr><tr><td>&quot;A&quot;</td><td>0008-03-04</td><td>14</td></tr><tr><td>&quot;A&quot;</td><td>0008-03-12</td><td>15</td></tr><tr><td>&quot;A&quot;</td><td>0008-03-21</td><td>16</td></tr><tr><td>&quot;A&quot;</td><td>0008-05-09</td><td>14</td></tr><tr><td>&quot;A&quot;</td><td>0008-05-11</td><td>15</td></tr><tr><td>&quot;A&quot;</td><td>0008-05-29</td><td>16</td></tr></tbody></table></div>"
      ],
      "text/plain": [
       "shape: (100, 3)\n",
       "┌───────┬────────────┬─────┐\n",
       "│ group ┆ date       ┆ ctr │\n",
       "│ ---   ┆ ---        ┆ --- │\n",
       "│ str   ┆ date       ┆ i64 │\n",
       "╞═══════╪════════════╪═════╡\n",
       "│ A     ┆ 0002-01-16 ┆ 1   │\n",
       "│ A     ┆ 0002-02-14 ┆ 2   │\n",
       "│ A     ┆ 0002-02-22 ┆ 3   │\n",
       "│ A     ┆ 0002-02-23 ┆ 4   │\n",
       "│ A     ┆ 0002-03-19 ┆ 5   │\n",
       "│ …     ┆ …          ┆ …   │\n",
       "│ A     ┆ 0008-03-12 ┆ 15  │\n",
       "│ A     ┆ 0008-03-21 ┆ 16  │\n",
       "│ A     ┆ 0008-05-09 ┆ 14  │\n",
       "│ A     ┆ 0008-05-11 ┆ 15  │\n",
       "│ A     ┆ 0008-05-29 ┆ 16  │\n",
       "└───────┴────────────┴─────┘"
      ]
     },
     "execution_count": 27,
     "metadata": {},
     "output_type": "execute_result"
    }
   ],
   "source": [
    "# Define a custom function for rolling sum operation on a DataFrame grouped by 'group'\n",
    "def rolling_sum(group_df):\n",
    "    # Selects specific columns and applies a rolling sum on the 'ctr' column with a window of 3\n",
    "    return group_df.select([\n",
    "        pl.col(\"group\"),                     # Include the 'group' column\n",
    "        pl.col(\"date\"),                      # Include the 'date' column\n",
    "        pl.col(\"ctr\").rolling_sum(window_size=\"1y\",by=\"date\", min_periods=1)  # Apply rolling sum on 'ctr'\n",
    "    ])\n",
    "\n",
    "# Group the DataFrame by 'group', apply the custom rolling_sum function, and sort the result\n",
    "result = df.group_by(\"group\").map_groups(rolling_sum).sort(by=[\"group\",\"date\"], descending=False)\n",
    "\n",
    "# Display the first 6 rows of the resulting DataFrame to showcase the rolling sum operation\n",
    "result.head(100)"
   ]
  },
  {
   "cell_type": "code",
   "execution_count": 28,
   "metadata": {},
   "outputs": [
    {
     "data": {
      "text/html": [
       "<div><style>\n",
       ".dataframe > thead > tr,\n",
       ".dataframe > tbody > tr {\n",
       "  text-align: right;\n",
       "  white-space: pre-wrap;\n",
       "}\n",
       "</style>\n",
       "<small>shape: (100, 5)</small><table border=\"1\" class=\"dataframe\"><thead><tr><th>group</th><th>values</th><th>date</th><th>ctr</th><th>group_ctr_rolling</th></tr><tr><td>str</td><td>i64</td><td>date</td><td>i64</td><td>i64</td></tr></thead><tbody><tr><td>&quot;A&quot;</td><td>4663932</td><td>0002-01-16</td><td>1</td><td>1</td></tr><tr><td>&quot;A&quot;</td><td>1665068</td><td>0002-02-14</td><td>1</td><td>2</td></tr><tr><td>&quot;A&quot;</td><td>1737526</td><td>0002-02-22</td><td>1</td><td>3</td></tr><tr><td>&quot;A&quot;</td><td>1997747</td><td>0002-02-23</td><td>1</td><td>4</td></tr><tr><td>&quot;A&quot;</td><td>1652297</td><td>0002-03-19</td><td>1</td><td>5</td></tr><tr><td>&quot;A&quot;</td><td>812302</td><td>0002-03-26</td><td>1</td><td>6</td></tr><tr><td>&quot;A&quot;</td><td>667878</td><td>0002-05-25</td><td>1</td><td>7</td></tr><tr><td>&quot;A&quot;</td><td>1521835</td><td>0002-06-03</td><td>1</td><td>8</td></tr><tr><td>&quot;A&quot;</td><td>1815003</td><td>0002-08-25</td><td>1</td><td>9</td></tr><tr><td>&quot;A&quot;</td><td>3149227</td><td>0002-09-15</td><td>1</td><td>10</td></tr><tr><td>&quot;A&quot;</td><td>4227929</td><td>0002-09-26</td><td>1</td><td>11</td></tr><tr><td>&quot;A&quot;</td><td>2559831</td><td>0002-10-24</td><td>1</td><td>12</td></tr><tr><td>&hellip;</td><td>&hellip;</td><td>&hellip;</td><td>&hellip;</td><td>&hellip;</td></tr><tr><td>&quot;A&quot;</td><td>3446673</td><td>0007-08-16</td><td>1</td><td>19</td></tr><tr><td>&quot;A&quot;</td><td>2781841</td><td>0007-08-29</td><td>1</td><td>17</td></tr><tr><td>&quot;A&quot;</td><td>2354217</td><td>0007-12-24</td><td>1</td><td>15</td></tr><tr><td>&quot;A&quot;</td><td>1895603</td><td>0008-01-06</td><td>1</td><td>16</td></tr><tr><td>&quot;A&quot;</td><td>3469733</td><td>0008-01-29</td><td>1</td><td>13</td></tr><tr><td>&quot;A&quot;</td><td>2382330</td><td>0008-03-02</td><td>1</td><td>13</td></tr><tr><td>&quot;A&quot;</td><td>1467261</td><td>0008-03-04</td><td>1</td><td>14</td></tr><tr><td>&quot;A&quot;</td><td>280013</td><td>0008-03-12</td><td>1</td><td>15</td></tr><tr><td>&quot;A&quot;</td><td>1000828</td><td>0008-03-21</td><td>1</td><td>16</td></tr><tr><td>&quot;A&quot;</td><td>616852</td><td>0008-05-09</td><td>1</td><td>14</td></tr><tr><td>&quot;A&quot;</td><td>4422485</td><td>0008-05-11</td><td>1</td><td>15</td></tr><tr><td>&quot;A&quot;</td><td>4258531</td><td>0008-05-29</td><td>1</td><td>16</td></tr></tbody></table></div>"
      ],
      "text/plain": [
       "shape: (100, 5)\n",
       "┌───────┬─────────┬────────────┬─────┬───────────────────┐\n",
       "│ group ┆ values  ┆ date       ┆ ctr ┆ group_ctr_rolling │\n",
       "│ ---   ┆ ---     ┆ ---        ┆ --- ┆ ---               │\n",
       "│ str   ┆ i64     ┆ date       ┆ i64 ┆ i64               │\n",
       "╞═══════╪═════════╪════════════╪═════╪═══════════════════╡\n",
       "│ A     ┆ 4663932 ┆ 0002-01-16 ┆ 1   ┆ 1                 │\n",
       "│ A     ┆ 1665068 ┆ 0002-02-14 ┆ 1   ┆ 2                 │\n",
       "│ A     ┆ 1737526 ┆ 0002-02-22 ┆ 1   ┆ 3                 │\n",
       "│ A     ┆ 1997747 ┆ 0002-02-23 ┆ 1   ┆ 4                 │\n",
       "│ A     ┆ 1652297 ┆ 0002-03-19 ┆ 1   ┆ 5                 │\n",
       "│ …     ┆ …       ┆ …          ┆ …   ┆ …                 │\n",
       "│ A     ┆ 280013  ┆ 0008-03-12 ┆ 1   ┆ 15                │\n",
       "│ A     ┆ 1000828 ┆ 0008-03-21 ┆ 1   ┆ 16                │\n",
       "│ A     ┆ 616852  ┆ 0008-05-09 ┆ 1   ┆ 14                │\n",
       "│ A     ┆ 4422485 ┆ 0008-05-11 ┆ 1   ┆ 15                │\n",
       "│ A     ┆ 4258531 ┆ 0008-05-29 ┆ 1   ┆ 16                │\n",
       "└───────┴─────────┴────────────┴─────┴───────────────────┘"
      ]
     },
     "execution_count": 28,
     "metadata": {},
     "output_type": "execute_result"
    }
   ],
   "source": [
    "##trying a lazy frame method of doing this\n",
    "\n",
    "lazy_df = df.lazy()\n",
    "#create a query\n",
    "q = (\n",
    "    lazy_df\n",
    "    .with_columns(\n",
    "        pl.col(\"ctr\").rolling_sum(window_size=\"1y\", min_periods=1, by=\"date\")\n",
    "        .over(\"group\")\n",
    "        .alias(\"group_ctr_rolling\")\n",
    "    )\n",
    "    .sort(by=[\"group\",\"date\"], descending=False)\n",
    "    # .with_columns(\n",
    "    #     pl.col(\"ctr\")\n",
    "    #     .rolling_sum()\n",
    "    # )\n",
    ")\n",
    "\n",
    "lazy_df = q.collect(streaming=True)\n",
    "\n",
    "lazy_df.head(100)"
   ]
  }
 ],
 "metadata": {
  "kernelspec": {
   "display_name": "JupyterMain",
   "language": "python",
   "name": "python3"
  },
  "language_info": {
   "codemirror_mode": {
    "name": "ipython",
    "version": 3
   },
   "file_extension": ".py",
   "mimetype": "text/x-python",
   "name": "python",
   "nbconvert_exporter": "python",
   "pygments_lexer": "ipython3",
   "version": "3.12.2"
  }
 },
 "nbformat": 4,
 "nbformat_minor": 2
}
