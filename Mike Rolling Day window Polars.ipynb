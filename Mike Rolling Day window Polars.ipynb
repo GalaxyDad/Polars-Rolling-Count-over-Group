{
 "cells": [
  {
   "cell_type": "code",
   "execution_count": 22,
   "metadata": {},
   "outputs": [
    {
     "data": {
      "text/html": [
       "<div><style>\n",
       ".dataframe > thead > tr,\n",
       ".dataframe > tbody > tr {\n",
       "  text-align: right;\n",
       "  white-space: pre-wrap;\n",
       "}\n",
       "</style>\n",
       "<small>shape: (9, 5)</small><table border=\"1\" class=\"dataframe\"><thead><tr><th>statistic</th><th>group</th><th>values</th><th>date</th><th>ctr</th></tr><tr><td>str</td><td>str</td><td>f64</td><td>str</td><td>f64</td></tr></thead><tbody><tr><td>&quot;count&quot;</td><td>&quot;23010&quot;</td><td>23010.0</td><td>&quot;23010&quot;</td><td>23010.0</td></tr><tr><td>&quot;null_count&quot;</td><td>&quot;0&quot;</td><td>0.0</td><td>&quot;0&quot;</td><td>0.0</td></tr><tr><td>&quot;mean&quot;</td><td>null</td><td>2.5089e6</td><td>&quot;1992-07-01&quot;</td><td>1.0</td></tr><tr><td>&quot;std&quot;</td><td>null</td><td>1.4424e6</td><td>null</td><td>0.0</td></tr><tr><td>&quot;min&quot;</td><td>&quot;A&quot;</td><td>845.0</td><td>&quot;1961-01-01&quot;</td><td>1.0</td></tr><tr><td>&quot;25%&quot;</td><td>null</td><td>1.251312e6</td><td>&quot;1976-10-01&quot;</td><td>1.0</td></tr><tr><td>&quot;50%&quot;</td><td>null</td><td>2.516663e6</td><td>&quot;1992-07-02&quot;</td><td>1.0</td></tr><tr><td>&quot;75%&quot;</td><td>null</td><td>3.756937e6</td><td>&quot;2008-04-01&quot;</td><td>1.0</td></tr><tr><td>&quot;max&quot;</td><td>&quot;Z&quot;</td><td>4.999871e6</td><td>&quot;2023-12-31&quot;</td><td>1.0</td></tr></tbody></table></div>"
      ],
      "text/plain": [
       "shape: (9, 5)\n",
       "┌────────────┬───────┬────────────┬────────────┬─────────┐\n",
       "│ statistic  ┆ group ┆ values     ┆ date       ┆ ctr     │\n",
       "│ ---        ┆ ---   ┆ ---        ┆ ---        ┆ ---     │\n",
       "│ str        ┆ str   ┆ f64        ┆ str        ┆ f64     │\n",
       "╞════════════╪═══════╪════════════╪════════════╪═════════╡\n",
       "│ count      ┆ 23010 ┆ 23010.0    ┆ 23010      ┆ 23010.0 │\n",
       "│ null_count ┆ 0     ┆ 0.0        ┆ 0          ┆ 0.0     │\n",
       "│ mean       ┆ null  ┆ 2.5089e6   ┆ 1992-07-01 ┆ 1.0     │\n",
       "│ std        ┆ null  ┆ 1.4424e6   ┆ null       ┆ 0.0     │\n",
       "│ min        ┆ A     ┆ 845.0      ┆ 1961-01-01 ┆ 1.0     │\n",
       "│ 25%        ┆ null  ┆ 1.251312e6 ┆ 1976-10-01 ┆ 1.0     │\n",
       "│ 50%        ┆ null  ┆ 2.516663e6 ┆ 1992-07-02 ┆ 1.0     │\n",
       "│ 75%        ┆ null  ┆ 3.756937e6 ┆ 2008-04-01 ┆ 1.0     │\n",
       "│ max        ┆ Z     ┆ 4.999871e6 ┆ 2023-12-31 ┆ 1.0     │\n",
       "└────────────┴───────┴────────────┴────────────┴─────────┘"
      ]
     },
     "execution_count": 22,
     "metadata": {},
     "output_type": "execute_result"
    }
   ],
   "source": [
    "import polars as pl\n",
    "from datetime import date, timedelta\n",
    "import random\n",
    "import string\n",
    "\n",
    "# Function to generate a date range from 2000 to 2024\n",
    "def generate_date_range(start_year, end_year):\n",
    "    start_date = date(start_year, 1, 1)\n",
    "    end_date = date(end_year, 12, 31)\n",
    "    delta = end_date - start_date\n",
    "    return [start_date + timedelta(days=i) for i in range(delta.days + 1)]\n",
    "\n",
    "# Generate a list of dates from 2000 to 2024\n",
    "dates = generate_date_range(1961, 2023)\n",
    "\n",
    "# Generate random groups, values, and set ctr to 1 for each entry\n",
    "groups = [random.choice(string.ascii_uppercase) for _ in dates]\n",
    "values = [random.randint(1, 5000000) for _ in dates]\n",
    "ctrs = [1 for _ in dates]\n",
    "\n",
    "# Create the DataFrame\n",
    "df = pl.DataFrame({\n",
    "    \"group\": groups,\n",
    "    \"values\": values,\n",
    "    \"date\": dates,\n",
    "    \"ctr\": ctrs\n",
    "})\n",
    "\n",
    "df.describe()\n"
   ]
  },
  {
   "cell_type": "code",
   "execution_count": 23,
   "metadata": {},
   "outputs": [
    {
     "data": {
      "text/html": [
       "<div><style>\n",
       ".dataframe > thead > tr,\n",
       ".dataframe > tbody > tr {\n",
       "  text-align: right;\n",
       "  white-space: pre-wrap;\n",
       "}\n",
       "</style>\n",
       "<small>shape: (30, 3)</small><table border=\"1\" class=\"dataframe\"><thead><tr><th>group</th><th>date</th><th>ctr</th></tr><tr><td>str</td><td>date</td><td>i64</td></tr></thead><tbody><tr><td>&quot;A&quot;</td><td>1961-01-03</td><td>1</td></tr><tr><td>&quot;A&quot;</td><td>1961-03-04</td><td>1</td></tr><tr><td>&quot;A&quot;</td><td>1961-03-21</td><td>2</td></tr><tr><td>&quot;A&quot;</td><td>1961-03-24</td><td>3</td></tr><tr><td>&quot;A&quot;</td><td>1961-04-13</td><td>3</td></tr><tr><td>&quot;A&quot;</td><td>1961-05-11</td><td>2</td></tr><tr><td>&quot;A&quot;</td><td>1961-05-31</td><td>2</td></tr><tr><td>&quot;A&quot;</td><td>1961-06-24</td><td>2</td></tr><tr><td>&quot;A&quot;</td><td>1961-06-27</td><td>3</td></tr><tr><td>&quot;A&quot;</td><td>1961-07-23</td><td>3</td></tr><tr><td>&quot;A&quot;</td><td>1961-07-24</td><td>3</td></tr><tr><td>&quot;A&quot;</td><td>1961-08-06</td><td>3</td></tr><tr><td>&hellip;</td><td>&hellip;</td><td>&hellip;</td></tr><tr><td>&quot;A&quot;</td><td>1962-05-20</td><td>2</td></tr><tr><td>&quot;A&quot;</td><td>1962-05-21</td><td>3</td></tr><tr><td>&quot;A&quot;</td><td>1962-06-21</td><td>1</td></tr><tr><td>&quot;A&quot;</td><td>1962-08-26</td><td>1</td></tr><tr><td>&quot;A&quot;</td><td>1962-09-04</td><td>2</td></tr><tr><td>&quot;A&quot;</td><td>1962-09-14</td><td>3</td></tr><tr><td>&quot;A&quot;</td><td>1962-10-21</td><td>1</td></tr><tr><td>&quot;A&quot;</td><td>1962-10-29</td><td>2</td></tr><tr><td>&quot;A&quot;</td><td>1962-11-18</td><td>3</td></tr><tr><td>&quot;A&quot;</td><td>1962-12-23</td><td>1</td></tr><tr><td>&quot;A&quot;</td><td>1963-01-08</td><td>2</td></tr><tr><td>&quot;A&quot;</td><td>1963-05-12</td><td>1</td></tr></tbody></table></div>"
      ],
      "text/plain": [
       "shape: (30, 3)\n",
       "┌───────┬────────────┬─────┐\n",
       "│ group ┆ date       ┆ ctr │\n",
       "│ ---   ┆ ---        ┆ --- │\n",
       "│ str   ┆ date       ┆ i64 │\n",
       "╞═══════╪════════════╪═════╡\n",
       "│ A     ┆ 1961-01-03 ┆ 1   │\n",
       "│ A     ┆ 1961-03-04 ┆ 1   │\n",
       "│ A     ┆ 1961-03-21 ┆ 2   │\n",
       "│ A     ┆ 1961-03-24 ┆ 3   │\n",
       "│ A     ┆ 1961-04-13 ┆ 3   │\n",
       "│ …     ┆ …          ┆ …   │\n",
       "│ A     ┆ 1962-10-29 ┆ 2   │\n",
       "│ A     ┆ 1962-11-18 ┆ 3   │\n",
       "│ A     ┆ 1962-12-23 ┆ 1   │\n",
       "│ A     ┆ 1963-01-08 ┆ 2   │\n",
       "│ A     ┆ 1963-05-12 ┆ 1   │\n",
       "└───────┴────────────┴─────┘"
      ]
     },
     "execution_count": 23,
     "metadata": {},
     "output_type": "execute_result"
    }
   ],
   "source": [
    "# Define a custom function for rolling sum operation on a DataFrame grouped by 'group'\n",
    "# df = pl.read_parquet(\"little file for testing polars.parquet\")\n",
    "def rolling_sum(group_df):\n",
    "    # Selects specific columns and applies a rolling sum on the 'ctr' column with a window of 3\n",
    "    return group_df.select([\n",
    "        pl.col(\"group\"),                     # Include the 'group' column\n",
    "        pl.col(\"date\"),                      # Include the 'date' column\n",
    "        pl.col(\"ctr\").rolling_sum(window_size=\"30d\",by=\"date\", min_periods=1)  # Apply rolling sum on 'ctr'\n",
    "    ])\n",
    "\n",
    "# Group the DataFrame by 'group', apply the custom rolling_sum function, and sort the result\n",
    "result = df.group_by(\"group\").map_groups(rolling_sum).sort(by=[\"group\",\"date\"], descending=False)\n",
    "\n",
    "# Display the first 6 rows of the resulting DataFrame to showcase the rolling sum operation\n",
    "result.head(30)"
   ]
  },
  {
   "cell_type": "code",
   "execution_count": 24,
   "metadata": {},
   "outputs": [
    {
     "data": {
      "text/html": [
       "<div><style>\n",
       ".dataframe > thead > tr,\n",
       ".dataframe > tbody > tr {\n",
       "  text-align: right;\n",
       "  white-space: pre-wrap;\n",
       "}\n",
       "</style>\n",
       "<small>shape: (30, 5)</small><table border=\"1\" class=\"dataframe\"><thead><tr><th>group</th><th>values</th><th>date</th><th>ctr</th><th>group_ctr_rolling</th></tr><tr><td>str</td><td>i64</td><td>date</td><td>i64</td><td>i64</td></tr></thead><tbody><tr><td>&quot;A&quot;</td><td>3142021</td><td>1961-01-03</td><td>1</td><td>1</td></tr><tr><td>&quot;A&quot;</td><td>4226875</td><td>1961-03-04</td><td>1</td><td>1</td></tr><tr><td>&quot;A&quot;</td><td>4393606</td><td>1961-03-21</td><td>1</td><td>2</td></tr><tr><td>&quot;A&quot;</td><td>4930191</td><td>1961-03-24</td><td>1</td><td>3</td></tr><tr><td>&quot;A&quot;</td><td>3776338</td><td>1961-04-13</td><td>1</td><td>3</td></tr><tr><td>&quot;A&quot;</td><td>882480</td><td>1961-05-11</td><td>1</td><td>2</td></tr><tr><td>&quot;A&quot;</td><td>458607</td><td>1961-05-31</td><td>1</td><td>2</td></tr><tr><td>&quot;A&quot;</td><td>1234526</td><td>1961-06-24</td><td>1</td><td>2</td></tr><tr><td>&quot;A&quot;</td><td>2015775</td><td>1961-06-27</td><td>1</td><td>3</td></tr><tr><td>&quot;A&quot;</td><td>204375</td><td>1961-07-23</td><td>1</td><td>3</td></tr><tr><td>&quot;A&quot;</td><td>4913235</td><td>1961-07-24</td><td>1</td><td>3</td></tr><tr><td>&quot;A&quot;</td><td>1409112</td><td>1961-08-06</td><td>1</td><td>3</td></tr><tr><td>&hellip;</td><td>&hellip;</td><td>&hellip;</td><td>&hellip;</td><td>&hellip;</td></tr><tr><td>&quot;A&quot;</td><td>2586368</td><td>1962-05-20</td><td>1</td><td>2</td></tr><tr><td>&quot;A&quot;</td><td>783538</td><td>1962-05-21</td><td>1</td><td>3</td></tr><tr><td>&quot;A&quot;</td><td>897248</td><td>1962-06-21</td><td>1</td><td>1</td></tr><tr><td>&quot;A&quot;</td><td>1122128</td><td>1962-08-26</td><td>1</td><td>1</td></tr><tr><td>&quot;A&quot;</td><td>2393616</td><td>1962-09-04</td><td>1</td><td>2</td></tr><tr><td>&quot;A&quot;</td><td>272786</td><td>1962-09-14</td><td>1</td><td>3</td></tr><tr><td>&quot;A&quot;</td><td>1532345</td><td>1962-10-21</td><td>1</td><td>1</td></tr><tr><td>&quot;A&quot;</td><td>4979154</td><td>1962-10-29</td><td>1</td><td>2</td></tr><tr><td>&quot;A&quot;</td><td>201748</td><td>1962-11-18</td><td>1</td><td>3</td></tr><tr><td>&quot;A&quot;</td><td>3205029</td><td>1962-12-23</td><td>1</td><td>1</td></tr><tr><td>&quot;A&quot;</td><td>489878</td><td>1963-01-08</td><td>1</td><td>2</td></tr><tr><td>&quot;A&quot;</td><td>1404549</td><td>1963-05-12</td><td>1</td><td>1</td></tr></tbody></table></div>"
      ],
      "text/plain": [
       "shape: (30, 5)\n",
       "┌───────┬─────────┬────────────┬─────┬───────────────────┐\n",
       "│ group ┆ values  ┆ date       ┆ ctr ┆ group_ctr_rolling │\n",
       "│ ---   ┆ ---     ┆ ---        ┆ --- ┆ ---               │\n",
       "│ str   ┆ i64     ┆ date       ┆ i64 ┆ i64               │\n",
       "╞═══════╪═════════╪════════════╪═════╪═══════════════════╡\n",
       "│ A     ┆ 3142021 ┆ 1961-01-03 ┆ 1   ┆ 1                 │\n",
       "│ A     ┆ 4226875 ┆ 1961-03-04 ┆ 1   ┆ 1                 │\n",
       "│ A     ┆ 4393606 ┆ 1961-03-21 ┆ 1   ┆ 2                 │\n",
       "│ A     ┆ 4930191 ┆ 1961-03-24 ┆ 1   ┆ 3                 │\n",
       "│ A     ┆ 3776338 ┆ 1961-04-13 ┆ 1   ┆ 3                 │\n",
       "│ …     ┆ …       ┆ …          ┆ …   ┆ …                 │\n",
       "│ A     ┆ 4979154 ┆ 1962-10-29 ┆ 1   ┆ 2                 │\n",
       "│ A     ┆ 201748  ┆ 1962-11-18 ┆ 1   ┆ 3                 │\n",
       "│ A     ┆ 3205029 ┆ 1962-12-23 ┆ 1   ┆ 1                 │\n",
       "│ A     ┆ 489878  ┆ 1963-01-08 ┆ 1   ┆ 2                 │\n",
       "│ A     ┆ 1404549 ┆ 1963-05-12 ┆ 1   ┆ 1                 │\n",
       "└───────┴─────────┴────────────┴─────┴───────────────────┘"
      ]
     },
     "execution_count": 24,
     "metadata": {},
     "output_type": "execute_result"
    }
   ],
   "source": [
    "##trying a lazy frame method of doing this\n",
    "\n",
    "# lazy_df = pl.scan_parquet(\"huge file for testing polars.parquet\")\n",
    "lazy_df = df.lazy()\n",
    "#create a query\n",
    "q = (\n",
    "    #invoke the lazy df\n",
    "    lazy_df\n",
    "    #lets CRUD some columns\n",
    "    .with_columns(\n",
    "        #do a 30 day backward looking sum of the counter column by the date column\n",
    "        pl.col(\"ctr\").rolling_sum(window_size=\"30d\", min_periods=1, by=\"date\")\n",
    "        #do the above over the group column, so it will calculate each rolling sum by group\n",
    "        .over(\"group\")\n",
    "        #use an alias to ensure no confusion\n",
    "        .alias(\"group_ctr_rolling\")\n",
    "    )\n",
    "    #sort so we can interpret the results easily\n",
    "    .sort(by=[\"group\",\"date\"], descending=False)\n",
    "    \n",
    ")\n",
    "#invoke the query and put the result into lazy_df with streaming on for best performance\n",
    "lazy_df = q.collect(streaming=True)\n",
    "\n",
    "#view results\n",
    "lazy_df.head(30)"
   ]
  },
  {
   "cell_type": "code",
   "execution_count": 25,
   "metadata": {},
   "outputs": [],
   "source": [
    "#import interest rates\n",
    "df_prime = pl.read_csv(\"canada_prime_Interest.csv\")\n",
    "\n",
    "#change rate column name\n",
    "df_prime = df_prime.rename({\"IRSTPI01CAM156N\": \"rate\"})\n",
    "\n",
    "df_prime = (\n",
    "    df_prime\n",
    "    .with_columns(\n",
    "        pl.col(\"DATE\").str.slice(0,7).alias(\"YYYY-MM\"),\n",
    "        pl.col(\"DATE\").str.strptime(pl.Date, \"%Y-%m-%d\"),\n",
    " \n",
    "        \n",
    "    )\n",
    ")\n",
    "\n"
   ]
  },
  {
   "cell_type": "code",
   "execution_count": 26,
   "metadata": {},
   "outputs": [
    {
     "data": {
      "text/html": [
       "<div><style>\n",
       ".dataframe > thead > tr,\n",
       ".dataframe > tbody > tr {\n",
       "  text-align: right;\n",
       "  white-space: pre-wrap;\n",
       "}\n",
       "</style>\n",
       "<small>shape: (5, 3)</small><table border=\"1\" class=\"dataframe\"><thead><tr><th>DATE</th><th>rate</th><th>YYYY-MM</th></tr><tr><td>date</td><td>f64</td><td>str</td></tr></thead><tbody><tr><td>1960-01-01</td><td>5.75</td><td>&quot;1960-01&quot;</td></tr><tr><td>1960-02-01</td><td>5.75</td><td>&quot;1960-02&quot;</td></tr><tr><td>1960-03-01</td><td>5.75</td><td>&quot;1960-03&quot;</td></tr><tr><td>1960-04-01</td><td>5.75</td><td>&quot;1960-04&quot;</td></tr><tr><td>1960-05-01</td><td>5.75</td><td>&quot;1960-05&quot;</td></tr></tbody></table></div>"
      ],
      "text/plain": [
       "shape: (5, 3)\n",
       "┌────────────┬──────┬─────────┐\n",
       "│ DATE       ┆ rate ┆ YYYY-MM │\n",
       "│ ---        ┆ ---  ┆ ---     │\n",
       "│ date       ┆ f64  ┆ str     │\n",
       "╞════════════╪══════╪═════════╡\n",
       "│ 1960-01-01 ┆ 5.75 ┆ 1960-01 │\n",
       "│ 1960-02-01 ┆ 5.75 ┆ 1960-02 │\n",
       "│ 1960-03-01 ┆ 5.75 ┆ 1960-03 │\n",
       "│ 1960-04-01 ┆ 5.75 ┆ 1960-04 │\n",
       "│ 1960-05-01 ┆ 5.75 ┆ 1960-05 │\n",
       "└────────────┴──────┴─────────┘"
      ]
     },
     "execution_count": 26,
     "metadata": {},
     "output_type": "execute_result"
    }
   ],
   "source": [
    "df_prime.head()"
   ]
  },
  {
   "cell_type": "code",
   "execution_count": 27,
   "metadata": {},
   "outputs": [
    {
     "data": {
      "text/html": [
       "<div><style>\n",
       ".dataframe > thead > tr,\n",
       ".dataframe > tbody > tr {\n",
       "  text-align: right;\n",
       "  white-space: pre-wrap;\n",
       "}\n",
       "</style>\n",
       "<small>shape: (5, 5)</small><table border=\"1\" class=\"dataframe\"><thead><tr><th>group</th><th>values</th><th>date</th><th>ctr</th><th>YYYY-MM</th></tr><tr><td>str</td><td>i64</td><td>date</td><td>i64</td><td>str</td></tr></thead><tbody><tr><td>&quot;Y&quot;</td><td>1931809</td><td>1961-01-01</td><td>1</td><td>&quot;1961-01&quot;</td></tr><tr><td>&quot;K&quot;</td><td>1965674</td><td>1961-01-02</td><td>1</td><td>&quot;1961-01&quot;</td></tr><tr><td>&quot;A&quot;</td><td>3142021</td><td>1961-01-03</td><td>1</td><td>&quot;1961-01&quot;</td></tr><tr><td>&quot;E&quot;</td><td>4498859</td><td>1961-01-04</td><td>1</td><td>&quot;1961-01&quot;</td></tr><tr><td>&quot;O&quot;</td><td>2965856</td><td>1961-01-05</td><td>1</td><td>&quot;1961-01&quot;</td></tr></tbody></table></div>"
      ],
      "text/plain": [
       "shape: (5, 5)\n",
       "┌───────┬─────────┬────────────┬─────┬─────────┐\n",
       "│ group ┆ values  ┆ date       ┆ ctr ┆ YYYY-MM │\n",
       "│ ---   ┆ ---     ┆ ---        ┆ --- ┆ ---     │\n",
       "│ str   ┆ i64     ┆ date       ┆ i64 ┆ str     │\n",
       "╞═══════╪═════════╪════════════╪═════╪═════════╡\n",
       "│ Y     ┆ 1931809 ┆ 1961-01-01 ┆ 1   ┆ 1961-01 │\n",
       "│ K     ┆ 1965674 ┆ 1961-01-02 ┆ 1   ┆ 1961-01 │\n",
       "│ A     ┆ 3142021 ┆ 1961-01-03 ┆ 1   ┆ 1961-01 │\n",
       "│ E     ┆ 4498859 ┆ 1961-01-04 ┆ 1   ┆ 1961-01 │\n",
       "│ O     ┆ 2965856 ┆ 1961-01-05 ┆ 1   ┆ 1961-01 │\n",
       "└───────┴─────────┴────────────┴─────┴─────────┘"
      ]
     },
     "execution_count": 27,
     "metadata": {},
     "output_type": "execute_result"
    }
   ],
   "source": [
    "#convert ddate to string\n",
    "df = (\n",
    "    df\n",
    "    .with_columns(\n",
    "        pl.col(\"date\").dt.strftime(\"%Y-%m\").alias(\"YYYY-MM\")\n",
    "    )\n",
    "    \n",
    ")\n",
    "\n",
    "df.head()"
   ]
  },
  {
   "cell_type": "code",
   "execution_count": 29,
   "metadata": {},
   "outputs": [
    {
     "data": {
      "text/html": [
       "<div><style>\n",
       ".dataframe > thead > tr,\n",
       ".dataframe > tbody > tr {\n",
       "  text-align: right;\n",
       "  white-space: pre-wrap;\n",
       "}\n",
       "</style>\n",
       "<small>shape: (30, 9)</small><table border=\"1\" class=\"dataframe\"><thead><tr><th>group</th><th>values</th><th>date</th><th>ctr</th><th>YYYY-MM</th><th>DATE</th><th>rate</th><th>DATE_Prime</th><th>rate_Prime</th></tr><tr><td>str</td><td>i64</td><td>date</td><td>i64</td><td>str</td><td>date</td><td>f64</td><td>date</td><td>f64</td></tr></thead><tbody><tr><td>&quot;E&quot;</td><td>686732</td><td>1993-10-25</td><td>1</td><td>&quot;1993-10&quot;</td><td>1993-10-01</td><td>5.75</td><td>1993-10-01</td><td>5.75</td></tr><tr><td>&quot;Y&quot;</td><td>4986424</td><td>1990-01-22</td><td>1</td><td>&quot;1990-01&quot;</td><td>1990-01-01</td><td>13.5</td><td>1990-01-01</td><td>13.5</td></tr><tr><td>&quot;W&quot;</td><td>1362123</td><td>2009-02-20</td><td>1</td><td>&quot;2009-02&quot;</td><td>2009-02-01</td><td>3.0</td><td>2009-02-01</td><td>3.0</td></tr><tr><td>&quot;C&quot;</td><td>3499444</td><td>2019-12-27</td><td>1</td><td>&quot;2019-12&quot;</td><td>2019-12-01</td><td>3.95</td><td>2019-12-01</td><td>3.95</td></tr><tr><td>&quot;Z&quot;</td><td>1101754</td><td>1987-08-08</td><td>1</td><td>&quot;1987-08&quot;</td><td>1987-08-01</td><td>10.0</td><td>1987-08-01</td><td>10.0</td></tr><tr><td>&quot;T&quot;</td><td>745793</td><td>1964-09-24</td><td>1</td><td>&quot;1964-09&quot;</td><td>1964-09-01</td><td>5.75</td><td>1964-09-01</td><td>5.75</td></tr><tr><td>&quot;W&quot;</td><td>2468376</td><td>2004-12-16</td><td>1</td><td>&quot;2004-12&quot;</td><td>2004-12-01</td><td>4.25</td><td>2004-12-01</td><td>4.25</td></tr><tr><td>&quot;B&quot;</td><td>4477711</td><td>2023-02-14</td><td>1</td><td>&quot;2023-02&quot;</td><td>2023-02-01</td><td>6.7</td><td>2023-02-01</td><td>6.7</td></tr><tr><td>&quot;U&quot;</td><td>760324</td><td>2005-06-30</td><td>1</td><td>&quot;2005-06&quot;</td><td>2005-06-01</td><td>4.25</td><td>2005-06-01</td><td>4.25</td></tr><tr><td>&quot;B&quot;</td><td>3884635</td><td>1984-07-18</td><td>1</td><td>&quot;1984-07&quot;</td><td>1984-07-01</td><td>13.375</td><td>1984-07-01</td><td>13.375</td></tr><tr><td>&quot;L&quot;</td><td>3506893</td><td>2023-01-07</td><td>1</td><td>&quot;2023-01&quot;</td><td>2023-01-01</td><td>6.45</td><td>2023-01-01</td><td>6.45</td></tr><tr><td>&quot;Q&quot;</td><td>3839042</td><td>2002-11-16</td><td>1</td><td>&quot;2002-11&quot;</td><td>2002-11-01</td><td>4.5</td><td>2002-11-01</td><td>4.5</td></tr><tr><td>&hellip;</td><td>&hellip;</td><td>&hellip;</td><td>&hellip;</td><td>&hellip;</td><td>&hellip;</td><td>&hellip;</td><td>&hellip;</td><td>&hellip;</td></tr><tr><td>&quot;N&quot;</td><td>1855906</td><td>2016-03-30</td><td>1</td><td>&quot;2016-03&quot;</td><td>2016-03-01</td><td>2.7</td><td>2016-03-01</td><td>2.7</td></tr><tr><td>&quot;B&quot;</td><td>282197</td><td>1998-04-04</td><td>1</td><td>&quot;1998-04&quot;</td><td>1998-04-01</td><td>6.5</td><td>1998-04-01</td><td>6.5</td></tr><tr><td>&quot;Y&quot;</td><td>4446859</td><td>2009-05-12</td><td>1</td><td>&quot;2009-05&quot;</td><td>2009-05-01</td><td>2.25</td><td>2009-05-01</td><td>2.25</td></tr><tr><td>&quot;H&quot;</td><td>4486002</td><td>1962-07-31</td><td>1</td><td>&quot;1962-07&quot;</td><td>1962-07-01</td><td>6.0</td><td>1962-07-01</td><td>6.0</td></tr><tr><td>&quot;V&quot;</td><td>2976867</td><td>2003-05-28</td><td>1</td><td>&quot;2003-05&quot;</td><td>2003-05-01</td><td>5.0</td><td>2003-05-01</td><td>5.0</td></tr><tr><td>&quot;D&quot;</td><td>4879689</td><td>2004-12-18</td><td>1</td><td>&quot;2004-12&quot;</td><td>2004-12-01</td><td>4.25</td><td>2004-12-01</td><td>4.25</td></tr><tr><td>&quot;M&quot;</td><td>2564831</td><td>1981-01-07</td><td>1</td><td>&quot;1981-01&quot;</td><td>1981-01-01</td><td>18.25</td><td>1981-01-01</td><td>18.25</td></tr><tr><td>&quot;X&quot;</td><td>4395594</td><td>1963-01-19</td><td>1</td><td>&quot;1963-01&quot;</td><td>1963-01-01</td><td>5.75</td><td>1963-01-01</td><td>5.75</td></tr><tr><td>&quot;E&quot;</td><td>3588683</td><td>2002-01-21</td><td>1</td><td>&quot;2002-01&quot;</td><td>2002-01-01</td><td>3.85</td><td>2002-01-01</td><td>3.85</td></tr><tr><td>&quot;V&quot;</td><td>1441487</td><td>2020-12-18</td><td>1</td><td>&quot;2020-12&quot;</td><td>2020-12-01</td><td>2.45</td><td>2020-12-01</td><td>2.45</td></tr><tr><td>&quot;K&quot;</td><td>3190412</td><td>2006-07-13</td><td>1</td><td>&quot;2006-07&quot;</td><td>2006-07-01</td><td>6.0</td><td>2006-07-01</td><td>6.0</td></tr><tr><td>&quot;V&quot;</td><td>2050729</td><td>2008-09-19</td><td>1</td><td>&quot;2008-09&quot;</td><td>2008-09-01</td><td>4.75</td><td>2008-09-01</td><td>4.75</td></tr></tbody></table></div>"
      ],
      "text/plain": [
       "shape: (30, 9)\n",
       "┌───────┬─────────┬────────────┬─────┬───┬────────────┬──────┬────────────┬────────────┐\n",
       "│ group ┆ values  ┆ date       ┆ ctr ┆ … ┆ DATE       ┆ rate ┆ DATE_Prime ┆ rate_Prime │\n",
       "│ ---   ┆ ---     ┆ ---        ┆ --- ┆   ┆ ---        ┆ ---  ┆ ---        ┆ ---        │\n",
       "│ str   ┆ i64     ┆ date       ┆ i64 ┆   ┆ date       ┆ f64  ┆ date       ┆ f64        │\n",
       "╞═══════╪═════════╪════════════╪═════╪═══╪════════════╪══════╪════════════╪════════════╡\n",
       "│ E     ┆ 686732  ┆ 1993-10-25 ┆ 1   ┆ … ┆ 1993-10-01 ┆ 5.75 ┆ 1993-10-01 ┆ 5.75       │\n",
       "│ Y     ┆ 4986424 ┆ 1990-01-22 ┆ 1   ┆ … ┆ 1990-01-01 ┆ 13.5 ┆ 1990-01-01 ┆ 13.5       │\n",
       "│ W     ┆ 1362123 ┆ 2009-02-20 ┆ 1   ┆ … ┆ 2009-02-01 ┆ 3.0  ┆ 2009-02-01 ┆ 3.0        │\n",
       "│ C     ┆ 3499444 ┆ 2019-12-27 ┆ 1   ┆ … ┆ 2019-12-01 ┆ 3.95 ┆ 2019-12-01 ┆ 3.95       │\n",
       "│ Z     ┆ 1101754 ┆ 1987-08-08 ┆ 1   ┆ … ┆ 1987-08-01 ┆ 10.0 ┆ 1987-08-01 ┆ 10.0       │\n",
       "│ …     ┆ …       ┆ …          ┆ …   ┆ … ┆ …          ┆ …    ┆ …          ┆ …          │\n",
       "│ X     ┆ 4395594 ┆ 1963-01-19 ┆ 1   ┆ … ┆ 1963-01-01 ┆ 5.75 ┆ 1963-01-01 ┆ 5.75       │\n",
       "│ E     ┆ 3588683 ┆ 2002-01-21 ┆ 1   ┆ … ┆ 2002-01-01 ┆ 3.85 ┆ 2002-01-01 ┆ 3.85       │\n",
       "│ V     ┆ 1441487 ┆ 2020-12-18 ┆ 1   ┆ … ┆ 2020-12-01 ┆ 2.45 ┆ 2020-12-01 ┆ 2.45       │\n",
       "│ K     ┆ 3190412 ┆ 2006-07-13 ┆ 1   ┆ … ┆ 2006-07-01 ┆ 6.0  ┆ 2006-07-01 ┆ 6.0        │\n",
       "│ V     ┆ 2050729 ┆ 2008-09-19 ┆ 1   ┆ … ┆ 2008-09-01 ┆ 4.75 ┆ 2008-09-01 ┆ 4.75       │\n",
       "└───────┴─────────┴────────────┴─────┴───┴────────────┴──────┴────────────┴────────────┘"
      ]
     },
     "execution_count": 29,
     "metadata": {},
     "output_type": "execute_result"
    }
   ],
   "source": [
    "df = df.join(other=df_prime, left_on=\"YYYY-MM\", right_on=\"YYYY-MM\",how=\"left\",suffix=\"_Prime\")\n",
    "\n",
    "\n",
    "\n",
    "df.sample(30)"
   ]
  }
 ],
 "metadata": {
  "kernelspec": {
   "display_name": "JupyterMain",
   "language": "python",
   "name": "python3"
  },
  "language_info": {
   "codemirror_mode": {
    "name": "ipython",
    "version": 3
   },
   "file_extension": ".py",
   "mimetype": "text/x-python",
   "name": "python",
   "nbconvert_exporter": "python",
   "pygments_lexer": "ipython3",
   "version": "3.12.2"
  }
 },
 "nbformat": 4,
 "nbformat_minor": 2
}
