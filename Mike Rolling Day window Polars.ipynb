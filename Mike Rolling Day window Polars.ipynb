{
 "cells": [
  {
   "cell_type": "code",
   "execution_count": 1,
   "metadata": {},
   "outputs": [
    {
     "data": {
      "text/html": [
       "<div><style>\n",
       ".dataframe > thead > tr,\n",
       ".dataframe > tbody > tr {\n",
       "  text-align: right;\n",
       "  white-space: pre-wrap;\n",
       "}\n",
       "</style>\n",
       "<small>shape: (9, 5)</small><table border=\"1\" class=\"dataframe\"><thead><tr><th>statistic</th><th>group</th><th>values</th><th>date</th><th>ctr</th></tr><tr><td>str</td><td>str</td><td>f64</td><td>str</td><td>f64</td></tr></thead><tbody><tr><td>&quot;count&quot;</td><td>&quot;23010&quot;</td><td>23010.0</td><td>&quot;23010&quot;</td><td>23010.0</td></tr><tr><td>&quot;null_count&quot;</td><td>&quot;0&quot;</td><td>0.0</td><td>&quot;0&quot;</td><td>0.0</td></tr><tr><td>&quot;mean&quot;</td><td>null</td><td>2.5057e6</td><td>&quot;1992-07-01&quot;</td><td>1.0</td></tr><tr><td>&quot;std&quot;</td><td>null</td><td>1.4453e6</td><td>null</td><td>0.0</td></tr><tr><td>&quot;min&quot;</td><td>&quot;A&quot;</td><td>220.0</td><td>&quot;1961-01-01&quot;</td><td>1.0</td></tr><tr><td>&quot;25%&quot;</td><td>null</td><td>1.245988e6</td><td>&quot;1976-10-01&quot;</td><td>1.0</td></tr><tr><td>&quot;50%&quot;</td><td>null</td><td>2.517033e6</td><td>&quot;1992-07-02&quot;</td><td>1.0</td></tr><tr><td>&quot;75%&quot;</td><td>null</td><td>3.758319e6</td><td>&quot;2008-04-01&quot;</td><td>1.0</td></tr><tr><td>&quot;max&quot;</td><td>&quot;Z&quot;</td><td>4.99962e6</td><td>&quot;2023-12-31&quot;</td><td>1.0</td></tr></tbody></table></div>"
      ],
      "text/plain": [
       "shape: (9, 5)\n",
       "┌────────────┬───────┬────────────┬────────────┬─────────┐\n",
       "│ statistic  ┆ group ┆ values     ┆ date       ┆ ctr     │\n",
       "│ ---        ┆ ---   ┆ ---        ┆ ---        ┆ ---     │\n",
       "│ str        ┆ str   ┆ f64        ┆ str        ┆ f64     │\n",
       "╞════════════╪═══════╪════════════╪════════════╪═════════╡\n",
       "│ count      ┆ 23010 ┆ 23010.0    ┆ 23010      ┆ 23010.0 │\n",
       "│ null_count ┆ 0     ┆ 0.0        ┆ 0          ┆ 0.0     │\n",
       "│ mean       ┆ null  ┆ 2.5057e6   ┆ 1992-07-01 ┆ 1.0     │\n",
       "│ std        ┆ null  ┆ 1.4453e6   ┆ null       ┆ 0.0     │\n",
       "│ min        ┆ A     ┆ 220.0      ┆ 1961-01-01 ┆ 1.0     │\n",
       "│ 25%        ┆ null  ┆ 1.245988e6 ┆ 1976-10-01 ┆ 1.0     │\n",
       "│ 50%        ┆ null  ┆ 2.517033e6 ┆ 1992-07-02 ┆ 1.0     │\n",
       "│ 75%        ┆ null  ┆ 3.758319e6 ┆ 2008-04-01 ┆ 1.0     │\n",
       "│ max        ┆ Z     ┆ 4.99962e6  ┆ 2023-12-31 ┆ 1.0     │\n",
       "└────────────┴───────┴────────────┴────────────┴─────────┘"
      ]
     },
     "execution_count": 1,
     "metadata": {},
     "output_type": "execute_result"
    }
   ],
   "source": [
    "import polars as pl\n",
    "from datetime import date, timedelta\n",
    "import random\n",
    "import string\n",
    "\n",
    "# Function to generate a date range from 2000 to 2024\n",
    "def generate_date_range(start_year, end_year):\n",
    "    start_date = date(start_year, 1, 1)\n",
    "    end_date = date(end_year, 12, 31)\n",
    "    delta = end_date - start_date\n",
    "    return [start_date + timedelta(days=i) for i in range(delta.days + 1)]\n",
    "\n",
    "# Generate a list of dates from 2000 to 2024\n",
    "dates = generate_date_range(1961, 2023)\n",
    "\n",
    "# Generate random groups, values, and set ctr to 1 for each entry\n",
    "groups = [random.choice(string.ascii_uppercase) for _ in dates]\n",
    "values = [random.randint(1, 5000000) for _ in dates]\n",
    "ctrs = [1 for _ in dates]\n",
    "\n",
    "# Create the DataFrame\n",
    "df = pl.DataFrame({\n",
    "    \"group\": groups,\n",
    "    \"values\": values,\n",
    "    \"date\": dates,\n",
    "    \"ctr\": ctrs\n",
    "})\n",
    "\n",
    "df.describe()\n"
   ]
  },
  {
   "cell_type": "code",
   "execution_count": 2,
   "metadata": {},
   "outputs": [
    {
     "name": "stderr",
     "output_type": "stream",
     "text": [
      "sys:1: UserWarning: Series is not known to be sorted by `by` column in rolling_sum operation.\n",
      "\n",
      "To silence this warning, you may want to try:\n",
      "- sorting your data by your `by` column beforehand;\n",
      "- setting `.set_sorted()` if you already know your data is sorted;\n",
      "- passing `warn_if_unsorted=False` if this warning is a false-positive\n",
      "  (this is known to happen when combining rolling aggregations with `over`);\n",
      "\n",
      "before passing calling the rolling aggregation function.\n",
      "\n"
     ]
    },
    {
     "data": {
      "text/html": [
       "<div><style>\n",
       ".dataframe > thead > tr,\n",
       ".dataframe > tbody > tr {\n",
       "  text-align: right;\n",
       "  white-space: pre-wrap;\n",
       "}\n",
       "</style>\n",
       "<small>shape: (30, 3)</small><table border=\"1\" class=\"dataframe\"><thead><tr><th>group</th><th>date</th><th>ctr</th></tr><tr><td>str</td><td>date</td><td>i64</td></tr></thead><tbody><tr><td>&quot;A&quot;</td><td>1961-01-12</td><td>1</td></tr><tr><td>&quot;A&quot;</td><td>1961-01-14</td><td>2</td></tr><tr><td>&quot;A&quot;</td><td>1961-01-26</td><td>3</td></tr><tr><td>&quot;A&quot;</td><td>1961-02-16</td><td>2</td></tr><tr><td>&quot;A&quot;</td><td>1961-02-23</td><td>3</td></tr><tr><td>&quot;A&quot;</td><td>1961-04-24</td><td>1</td></tr><tr><td>&quot;A&quot;</td><td>1961-05-10</td><td>2</td></tr><tr><td>&quot;A&quot;</td><td>1961-05-13</td><td>3</td></tr><tr><td>&quot;A&quot;</td><td>1961-05-16</td><td>4</td></tr><tr><td>&quot;A&quot;</td><td>1961-08-12</td><td>1</td></tr><tr><td>&quot;A&quot;</td><td>1961-08-28</td><td>2</td></tr><tr><td>&quot;A&quot;</td><td>1961-09-10</td><td>3</td></tr><tr><td>&hellip;</td><td>&hellip;</td><td>&hellip;</td></tr><tr><td>&quot;A&quot;</td><td>1961-12-14</td><td>2</td></tr><tr><td>&quot;A&quot;</td><td>1962-01-20</td><td>1</td></tr><tr><td>&quot;A&quot;</td><td>1962-02-04</td><td>2</td></tr><tr><td>&quot;A&quot;</td><td>1962-03-13</td><td>1</td></tr><tr><td>&quot;A&quot;</td><td>1962-03-15</td><td>2</td></tr><tr><td>&quot;A&quot;</td><td>1962-04-07</td><td>3</td></tr><tr><td>&quot;A&quot;</td><td>1962-05-10</td><td>1</td></tr><tr><td>&quot;A&quot;</td><td>1962-05-21</td><td>2</td></tr><tr><td>&quot;A&quot;</td><td>1962-05-23</td><td>3</td></tr><tr><td>&quot;A&quot;</td><td>1962-06-16</td><td>3</td></tr><tr><td>&quot;A&quot;</td><td>1962-07-12</td><td>2</td></tr><tr><td>&quot;A&quot;</td><td>1962-08-06</td><td>2</td></tr></tbody></table></div>"
      ],
      "text/plain": [
       "shape: (30, 3)\n",
       "┌───────┬────────────┬─────┐\n",
       "│ group ┆ date       ┆ ctr │\n",
       "│ ---   ┆ ---        ┆ --- │\n",
       "│ str   ┆ date       ┆ i64 │\n",
       "╞═══════╪════════════╪═════╡\n",
       "│ A     ┆ 1961-01-12 ┆ 1   │\n",
       "│ A     ┆ 1961-01-14 ┆ 2   │\n",
       "│ A     ┆ 1961-01-26 ┆ 3   │\n",
       "│ A     ┆ 1961-02-16 ┆ 2   │\n",
       "│ A     ┆ 1961-02-23 ┆ 3   │\n",
       "│ …     ┆ …          ┆ …   │\n",
       "│ A     ┆ 1962-05-21 ┆ 2   │\n",
       "│ A     ┆ 1962-05-23 ┆ 3   │\n",
       "│ A     ┆ 1962-06-16 ┆ 3   │\n",
       "│ A     ┆ 1962-07-12 ┆ 2   │\n",
       "│ A     ┆ 1962-08-06 ┆ 2   │\n",
       "└───────┴────────────┴─────┘"
      ]
     },
     "execution_count": 2,
     "metadata": {},
     "output_type": "execute_result"
    }
   ],
   "source": [
    "# Define a custom function for rolling sum operation on a DataFrame grouped by 'group'\n",
    "# df = pl.read_parquet(\"little file for testing polars.parquet\")\n",
    "def rolling_sum(group_df):\n",
    "    # Selects specific columns and applies a rolling sum on the 'ctr' column with a window of 3\n",
    "    return group_df.select([\n",
    "        pl.col(\"group\"),                     # Include the 'group' column\n",
    "        pl.col(\"date\"),                      # Include the 'date' column\n",
    "        pl.col(\"ctr\").rolling_sum(window_size=\"30d\",by=\"date\", min_periods=1)  # Apply rolling sum on 'ctr'\n",
    "    ])\n",
    "\n",
    "# Group the DataFrame by 'group', apply the custom rolling_sum function, and sort the result\n",
    "result = df.group_by(\"group\").map_groups(rolling_sum).sort(by=[\"group\",\"date\"], descending=False)\n",
    "\n",
    "# Display the first 6 rows of the resulting DataFrame to showcase the rolling sum operation\n",
    "result.head(30)"
   ]
  },
  {
   "cell_type": "code",
   "execution_count": 4,
   "metadata": {},
   "outputs": [
    {
     "data": {
      "text/html": [
       "<div><style>\n",
       ".dataframe > thead > tr,\n",
       ".dataframe > tbody > tr {\n",
       "  text-align: right;\n",
       "  white-space: pre-wrap;\n",
       "}\n",
       "</style>\n",
       "<small>shape: (30, 5)</small><table border=\"1\" class=\"dataframe\"><thead><tr><th>group</th><th>values</th><th>date</th><th>ctr</th><th>group_ctr_rolling</th></tr><tr><td>str</td><td>i64</td><td>date</td><td>i64</td><td>i64</td></tr></thead><tbody><tr><td>&quot;A&quot;</td><td>3011570</td><td>1961-01-12</td><td>1</td><td>1</td></tr><tr><td>&quot;A&quot;</td><td>231490</td><td>1961-01-14</td><td>1</td><td>2</td></tr><tr><td>&quot;A&quot;</td><td>4473502</td><td>1961-01-26</td><td>1</td><td>3</td></tr><tr><td>&quot;A&quot;</td><td>3168188</td><td>1961-02-16</td><td>1</td><td>2</td></tr><tr><td>&quot;A&quot;</td><td>4866426</td><td>1961-02-23</td><td>1</td><td>3</td></tr><tr><td>&quot;A&quot;</td><td>4181646</td><td>1961-04-24</td><td>1</td><td>1</td></tr><tr><td>&quot;A&quot;</td><td>2626628</td><td>1961-05-10</td><td>1</td><td>2</td></tr><tr><td>&quot;A&quot;</td><td>3761687</td><td>1961-05-13</td><td>1</td><td>3</td></tr><tr><td>&quot;A&quot;</td><td>3431929</td><td>1961-05-16</td><td>1</td><td>4</td></tr><tr><td>&quot;A&quot;</td><td>535262</td><td>1961-08-12</td><td>1</td><td>1</td></tr><tr><td>&quot;A&quot;</td><td>3278374</td><td>1961-08-28</td><td>1</td><td>2</td></tr><tr><td>&quot;A&quot;</td><td>2137881</td><td>1961-09-10</td><td>1</td><td>3</td></tr><tr><td>&hellip;</td><td>&hellip;</td><td>&hellip;</td><td>&hellip;</td><td>&hellip;</td></tr><tr><td>&quot;A&quot;</td><td>4790246</td><td>1961-12-14</td><td>1</td><td>2</td></tr><tr><td>&quot;A&quot;</td><td>564694</td><td>1962-01-20</td><td>1</td><td>1</td></tr><tr><td>&quot;A&quot;</td><td>4985374</td><td>1962-02-04</td><td>1</td><td>2</td></tr><tr><td>&quot;A&quot;</td><td>3999568</td><td>1962-03-13</td><td>1</td><td>1</td></tr><tr><td>&quot;A&quot;</td><td>3019514</td><td>1962-03-15</td><td>1</td><td>2</td></tr><tr><td>&quot;A&quot;</td><td>3398982</td><td>1962-04-07</td><td>1</td><td>3</td></tr><tr><td>&quot;A&quot;</td><td>2906283</td><td>1962-05-10</td><td>1</td><td>1</td></tr><tr><td>&quot;A&quot;</td><td>1885108</td><td>1962-05-21</td><td>1</td><td>2</td></tr><tr><td>&quot;A&quot;</td><td>3292892</td><td>1962-05-23</td><td>1</td><td>3</td></tr><tr><td>&quot;A&quot;</td><td>797736</td><td>1962-06-16</td><td>1</td><td>3</td></tr><tr><td>&quot;A&quot;</td><td>2577412</td><td>1962-07-12</td><td>1</td><td>2</td></tr><tr><td>&quot;A&quot;</td><td>73358</td><td>1962-08-06</td><td>1</td><td>2</td></tr></tbody></table></div>"
      ],
      "text/plain": [
       "shape: (30, 5)\n",
       "┌───────┬─────────┬────────────┬─────┬───────────────────┐\n",
       "│ group ┆ values  ┆ date       ┆ ctr ┆ group_ctr_rolling │\n",
       "│ ---   ┆ ---     ┆ ---        ┆ --- ┆ ---               │\n",
       "│ str   ┆ i64     ┆ date       ┆ i64 ┆ i64               │\n",
       "╞═══════╪═════════╪════════════╪═════╪═══════════════════╡\n",
       "│ A     ┆ 3011570 ┆ 1961-01-12 ┆ 1   ┆ 1                 │\n",
       "│ A     ┆ 231490  ┆ 1961-01-14 ┆ 1   ┆ 2                 │\n",
       "│ A     ┆ 4473502 ┆ 1961-01-26 ┆ 1   ┆ 3                 │\n",
       "│ A     ┆ 3168188 ┆ 1961-02-16 ┆ 1   ┆ 2                 │\n",
       "│ A     ┆ 4866426 ┆ 1961-02-23 ┆ 1   ┆ 3                 │\n",
       "│ …     ┆ …       ┆ …          ┆ …   ┆ …                 │\n",
       "│ A     ┆ 1885108 ┆ 1962-05-21 ┆ 1   ┆ 2                 │\n",
       "│ A     ┆ 3292892 ┆ 1962-05-23 ┆ 1   ┆ 3                 │\n",
       "│ A     ┆ 797736  ┆ 1962-06-16 ┆ 1   ┆ 3                 │\n",
       "│ A     ┆ 2577412 ┆ 1962-07-12 ┆ 1   ┆ 2                 │\n",
       "│ A     ┆ 73358   ┆ 1962-08-06 ┆ 1   ┆ 2                 │\n",
       "└───────┴─────────┴────────────┴─────┴───────────────────┘"
      ]
     },
     "execution_count": 4,
     "metadata": {},
     "output_type": "execute_result"
    }
   ],
   "source": [
    "##trying a lazy frame method of doing this\n",
    "\n",
    "# lazy_df = pl.scan_parquet(\"huge file for testing polars.parquet\")\n",
    "lazy_df = df.lazy()\n",
    "#create a query\n",
    "q = (\n",
    "    #invoke the lazy df\n",
    "    lazy_df\n",
    "    #lets CRUD some columns\n",
    "    .with_columns(\n",
    "        #do a 30 day backward looking sum of the counter column by the date column\n",
    "        pl.col(\"ctr\").rolling_sum(window_size=\"30d\", min_periods=1, by=\"date\")\n",
    "        #do the above over the group column, so it will calculate each rolling sum by group\n",
    "        .over(\"group\")\n",
    "        #use an alias to ensure no confusion\n",
    "        .alias(\"group_ctr_rolling\")\n",
    "    )\n",
    "    #sort so we can interpret the results easily\n",
    "    .sort(by=[\"group\",\"date\"], descending=False)\n",
    "    \n",
    ")\n",
    "#invoke the query and put the result into lazy_df with streaming on for best performance\n",
    "lazy_df = q.collect(streaming=True)\n",
    "\n",
    "#view results\n",
    "lazy_df.head(30)"
   ]
  },
  {
   "cell_type": "code",
   "execution_count": 12,
   "metadata": {},
   "outputs": [
    {
     "data": {
      "text/html": [
       "<div><style>\n",
       ".dataframe > thead > tr,\n",
       ".dataframe > tbody > tr {\n",
       "  text-align: right;\n",
       "  white-space: pre-wrap;\n",
       "}\n",
       "</style>\n",
       "<small>shape: (5, 3)</small><table border=\"1\" class=\"dataframe\"><thead><tr><th>DATE</th><th>rate</th><th>YYYY-MM</th></tr><tr><td>date</td><td>f64</td><td>str</td></tr></thead><tbody><tr><td>1960-01-01</td><td>5.75</td><td>&quot;1960-01&quot;</td></tr><tr><td>1960-02-01</td><td>5.75</td><td>&quot;1960-02&quot;</td></tr><tr><td>1960-03-01</td><td>5.75</td><td>&quot;1960-03&quot;</td></tr><tr><td>1960-04-01</td><td>5.75</td><td>&quot;1960-04&quot;</td></tr><tr><td>1960-05-01</td><td>5.75</td><td>&quot;1960-05&quot;</td></tr></tbody></table></div>"
      ],
      "text/plain": [
       "shape: (5, 3)\n",
       "┌────────────┬──────┬─────────┐\n",
       "│ DATE       ┆ rate ┆ YYYY-MM │\n",
       "│ ---        ┆ ---  ┆ ---     │\n",
       "│ date       ┆ f64  ┆ str     │\n",
       "╞════════════╪══════╪═════════╡\n",
       "│ 1960-01-01 ┆ 5.75 ┆ 1960-01 │\n",
       "│ 1960-02-01 ┆ 5.75 ┆ 1960-02 │\n",
       "│ 1960-03-01 ┆ 5.75 ┆ 1960-03 │\n",
       "│ 1960-04-01 ┆ 5.75 ┆ 1960-04 │\n",
       "│ 1960-05-01 ┆ 5.75 ┆ 1960-05 │\n",
       "└────────────┴──────┴─────────┘"
      ]
     },
     "execution_count": 12,
     "metadata": {},
     "output_type": "execute_result"
    }
   ],
   "source": [
    "#import interest rates\n",
    "df_prime = pl.read_csv(\"canada_prime_Interest.csv\")\n",
    "\n",
    "#change rate column name\n",
    "df_prime = df_prime.rename({\"IRSTPI01CAM156N\": \"rate\"})\n",
    "\n",
    "df_prime = (\n",
    "    df_prime\n",
    "    .with_columns(\n",
    "        pl.col(\"DATE\").str.slice(0,7).alias(\"YYYY-MM\"),\n",
    "        pl.col(\"DATE\").str.strptime(pl.Date, \"%Y-%m-%d\")\n",
    "        \n",
    "    )\n",
    ")\n",
    "\n"
   ]
  },
  {
   "cell_type": "code",
   "execution_count": 13,
   "metadata": {},
   "outputs": [
    {
     "data": {
      "text/html": [
       "<div><style>\n",
       ".dataframe > thead > tr,\n",
       ".dataframe > tbody > tr {\n",
       "  text-align: right;\n",
       "  white-space: pre-wrap;\n",
       "}\n",
       "</style>\n",
       "<small>shape: (5, 4)</small><table border=\"1\" class=\"dataframe\"><thead><tr><th>group</th><th>values</th><th>date</th><th>ctr</th></tr><tr><td>str</td><td>i64</td><td>date</td><td>i64</td></tr></thead><tbody><tr><td>&quot;E&quot;</td><td>2451350</td><td>1961-01-01</td><td>1</td></tr><tr><td>&quot;T&quot;</td><td>2602489</td><td>1961-01-02</td><td>1</td></tr><tr><td>&quot;U&quot;</td><td>66163</td><td>1961-01-03</td><td>1</td></tr><tr><td>&quot;T&quot;</td><td>2405258</td><td>1961-01-04</td><td>1</td></tr><tr><td>&quot;V&quot;</td><td>4350964</td><td>1961-01-05</td><td>1</td></tr></tbody></table></div>"
      ],
      "text/plain": [
       "shape: (5, 4)\n",
       "┌───────┬─────────┬────────────┬─────┐\n",
       "│ group ┆ values  ┆ date       ┆ ctr │\n",
       "│ ---   ┆ ---     ┆ ---        ┆ --- │\n",
       "│ str   ┆ i64     ┆ date       ┆ i64 │\n",
       "╞═══════╪═════════╪════════════╪═════╡\n",
       "│ E     ┆ 2451350 ┆ 1961-01-01 ┆ 1   │\n",
       "│ T     ┆ 2602489 ┆ 1961-01-02 ┆ 1   │\n",
       "│ U     ┆ 66163   ┆ 1961-01-03 ┆ 1   │\n",
       "│ T     ┆ 2405258 ┆ 1961-01-04 ┆ 1   │\n",
       "│ V     ┆ 4350964 ┆ 1961-01-05 ┆ 1   │\n",
       "└───────┴─────────┴────────────┴─────┘"
      ]
     },
     "execution_count": 13,
     "metadata": {},
     "output_type": "execute_result"
    }
   ],
   "source": [
    "df.head()"
   ]
  },
  {
   "cell_type": "code",
   "execution_count": 15,
   "metadata": {},
   "outputs": [
    {
     "data": {
      "text/html": [
       "<div><style>\n",
       ".dataframe > thead > tr,\n",
       ".dataframe > tbody > tr {\n",
       "  text-align: right;\n",
       "  white-space: pre-wrap;\n",
       "}\n",
       "</style>\n",
       "<small>shape: (5, 5)</small><table border=\"1\" class=\"dataframe\"><thead><tr><th>group</th><th>values</th><th>date</th><th>ctr</th><th>YYYY-MM</th></tr><tr><td>str</td><td>i64</td><td>date</td><td>i64</td><td>str</td></tr></thead><tbody><tr><td>&quot;E&quot;</td><td>2451350</td><td>1961-01-01</td><td>1</td><td>&quot;1961-01&quot;</td></tr><tr><td>&quot;T&quot;</td><td>2602489</td><td>1961-01-02</td><td>1</td><td>&quot;1961-01&quot;</td></tr><tr><td>&quot;U&quot;</td><td>66163</td><td>1961-01-03</td><td>1</td><td>&quot;1961-01&quot;</td></tr><tr><td>&quot;T&quot;</td><td>2405258</td><td>1961-01-04</td><td>1</td><td>&quot;1961-01&quot;</td></tr><tr><td>&quot;V&quot;</td><td>4350964</td><td>1961-01-05</td><td>1</td><td>&quot;1961-01&quot;</td></tr></tbody></table></div>"
      ],
      "text/plain": [
       "shape: (5, 5)\n",
       "┌───────┬─────────┬────────────┬─────┬─────────┐\n",
       "│ group ┆ values  ┆ date       ┆ ctr ┆ YYYY-MM │\n",
       "│ ---   ┆ ---     ┆ ---        ┆ --- ┆ ---     │\n",
       "│ str   ┆ i64     ┆ date       ┆ i64 ┆ str     │\n",
       "╞═══════╪═════════╪════════════╪═════╪═════════╡\n",
       "│ E     ┆ 2451350 ┆ 1961-01-01 ┆ 1   ┆ 1961-01 │\n",
       "│ T     ┆ 2602489 ┆ 1961-01-02 ┆ 1   ┆ 1961-01 │\n",
       "│ U     ┆ 66163   ┆ 1961-01-03 ┆ 1   ┆ 1961-01 │\n",
       "│ T     ┆ 2405258 ┆ 1961-01-04 ┆ 1   ┆ 1961-01 │\n",
       "│ V     ┆ 4350964 ┆ 1961-01-05 ┆ 1   ┆ 1961-01 │\n",
       "└───────┴─────────┴────────────┴─────┴─────────┘"
      ]
     },
     "execution_count": 15,
     "metadata": {},
     "output_type": "execute_result"
    }
   ],
   "source": [
    "#convert ddate to string\n",
    "df = (\n",
    "    df\n",
    "    .with_columns(\n",
    "        pl.col(\"date\").dt.strftime(\"%Y-%m\").alias(\"YYYY-MM\")\n",
    "    )\n",
    "    \n",
    ")\n",
    "\n",
    "df.head()"
   ]
  }
 ],
 "metadata": {
  "kernelspec": {
   "display_name": "JupyterMain",
   "language": "python",
   "name": "python3"
  },
  "language_info": {
   "codemirror_mode": {
    "name": "ipython",
    "version": 3
   },
   "file_extension": ".py",
   "mimetype": "text/x-python",
   "name": "python",
   "nbconvert_exporter": "python",
   "pygments_lexer": "ipython3",
   "version": "3.12.2"
  }
 },
 "nbformat": 4,
 "nbformat_minor": 2
}
